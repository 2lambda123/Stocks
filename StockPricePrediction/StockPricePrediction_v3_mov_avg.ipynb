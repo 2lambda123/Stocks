{
 "cells": [
  {
   "cell_type": "markdown",
   "metadata": {},
   "source": [
    "# Objective\n",
    "* 20181230: \n",
    "    * Predict stock price in next day using simple moving average\n",
    "    * Given prices for the last N days, we do prediction for day N+1"
   ]
  },
  {
   "cell_type": "code",
   "execution_count": 65,
   "metadata": {
    "collapsed": true
   },
   "outputs": [],
   "source": [
    "import math\n",
    "import matplotlib\n",
    "import numpy as np\n",
    "import pandas as pd\n",
    "import seaborn as sns\n",
    "import time\n",
    "\n",
    "from datetime import date, datetime, time, timedelta\n",
    "from matplotlib import pyplot as plt\n",
    "from pylab import rcParams\n",
    "from sklearn.linear_model import LinearRegression\n",
    "from sklearn.metrics import mean_squared_error\n",
    "from tqdm import tqdm_notebook\n",
    "\n",
    "%matplotlib inline\n",
    "\n",
    "#### Input params ##################\n",
    "stk_path = \"./data/VTI.csv\"\n",
    "Nmax = 21                      # for feature at day t, we use lags from t-1, t-2, ..., t-N as features\n",
    "                               # Nmax is the maximum N we are going to test\n",
    "fontsize = 14\n",
    "ticklabelsize = 14\n",
    "####################################"
   ]
  },
  {
   "cell_type": "markdown",
   "metadata": {},
   "source": [
    "# Common functions"
   ]
  },
  {
   "cell_type": "code",
   "execution_count": 66,
   "metadata": {
    "collapsed": true
   },
   "outputs": [],
   "source": [
    "def get_preds_mov_avg(df, target_col, N, pred_min):\n",
    "    \"\"\"\n",
    "    Given a dataframe, get prediction at timestep t using values from t-1, t-2, ..., t-N.\n",
    "    Using simple moving average.\n",
    "    Inputs\n",
    "        df         : dataframe with the values you want to predict. Can be of any length.\n",
    "        target_col : name of the column you want to predict e.g. 'adj_close'\n",
    "        N          : get prediction at timestep t using values from t-1, t-2, ..., t-N\n",
    "        pred_min   : all predictions should be >= pred_min\n",
    "    Outputs\n",
    "        pred_list  : list. The predictions for target_col. np.array of length len(df)-N.\n",
    "    \"\"\"\n",
    "    pred_list = df[target_col].rolling(window = N, min_periods=1).mean() # len(pred_list) = len(df)\n",
    "    \n",
    "    # Add one timestep to the predictions\n",
    "    pred_list = np.concatenate((np.array([np.nan]), np.array(pred_list[:-1])))\n",
    "    \n",
    "    # If the values are < pred_min, set it to be pred_min\n",
    "    pred_list = np.array(pred_list)\n",
    "    pred_list[pred_list < pred_min] = pred_min\n",
    "    \n",
    "    return pred_list"
   ]
  },
  {
   "cell_type": "markdown",
   "metadata": {},
   "source": [
    "# Load data"
   ]
  },
  {
   "cell_type": "code",
   "execution_count": 67,
   "metadata": {},
   "outputs": [
    {
     "data": {
      "text/html": [
       "<div>\n",
       "<style scoped>\n",
       "    .dataframe tbody tr th:only-of-type {\n",
       "        vertical-align: middle;\n",
       "    }\n",
       "\n",
       "    .dataframe tbody tr th {\n",
       "        vertical-align: top;\n",
       "    }\n",
       "\n",
       "    .dataframe thead th {\n",
       "        text-align: right;\n",
       "    }\n",
       "</style>\n",
       "<table border=\"1\" class=\"dataframe\">\n",
       "  <thead>\n",
       "    <tr style=\"text-align: right;\">\n",
       "      <th></th>\n",
       "      <th>date</th>\n",
       "      <th>open</th>\n",
       "      <th>high</th>\n",
       "      <th>low</th>\n",
       "      <th>close</th>\n",
       "      <th>adj_close</th>\n",
       "      <th>volume</th>\n",
       "      <th>month</th>\n",
       "    </tr>\n",
       "  </thead>\n",
       "  <tbody>\n",
       "    <tr>\n",
       "      <th>0</th>\n",
       "      <td>2015-11-25</td>\n",
       "      <td>107.510002</td>\n",
       "      <td>107.660004</td>\n",
       "      <td>107.250000</td>\n",
       "      <td>107.470001</td>\n",
       "      <td>101.497200</td>\n",
       "      <td>1820300</td>\n",
       "      <td>11</td>\n",
       "    </tr>\n",
       "    <tr>\n",
       "      <th>1</th>\n",
       "      <td>2015-11-27</td>\n",
       "      <td>107.589996</td>\n",
       "      <td>107.760002</td>\n",
       "      <td>107.220001</td>\n",
       "      <td>107.629997</td>\n",
       "      <td>101.648300</td>\n",
       "      <td>552400</td>\n",
       "      <td>11</td>\n",
       "    </tr>\n",
       "    <tr>\n",
       "      <th>2</th>\n",
       "      <td>2015-11-30</td>\n",
       "      <td>107.779999</td>\n",
       "      <td>107.849998</td>\n",
       "      <td>107.110001</td>\n",
       "      <td>107.169998</td>\n",
       "      <td>101.213867</td>\n",
       "      <td>3618100</td>\n",
       "      <td>11</td>\n",
       "    </tr>\n",
       "    <tr>\n",
       "      <th>3</th>\n",
       "      <td>2015-12-01</td>\n",
       "      <td>107.589996</td>\n",
       "      <td>108.209999</td>\n",
       "      <td>107.370003</td>\n",
       "      <td>108.180000</td>\n",
       "      <td>102.167740</td>\n",
       "      <td>2443600</td>\n",
       "      <td>12</td>\n",
       "    </tr>\n",
       "    <tr>\n",
       "      <th>4</th>\n",
       "      <td>2015-12-02</td>\n",
       "      <td>108.099998</td>\n",
       "      <td>108.269997</td>\n",
       "      <td>106.879997</td>\n",
       "      <td>107.050003</td>\n",
       "      <td>101.100533</td>\n",
       "      <td>2937200</td>\n",
       "      <td>12</td>\n",
       "    </tr>\n",
       "    <tr>\n",
       "      <th>5</th>\n",
       "      <td>2015-12-03</td>\n",
       "      <td>107.290001</td>\n",
       "      <td>107.480003</td>\n",
       "      <td>105.059998</td>\n",
       "      <td>105.449997</td>\n",
       "      <td>99.589470</td>\n",
       "      <td>3345600</td>\n",
       "      <td>12</td>\n",
       "    </tr>\n",
       "    <tr>\n",
       "      <th>6</th>\n",
       "      <td>2015-12-04</td>\n",
       "      <td>105.809998</td>\n",
       "      <td>107.540001</td>\n",
       "      <td>105.620003</td>\n",
       "      <td>107.389999</td>\n",
       "      <td>101.421646</td>\n",
       "      <td>4520000</td>\n",
       "      <td>12</td>\n",
       "    </tr>\n",
       "    <tr>\n",
       "      <th>7</th>\n",
       "      <td>2015-12-07</td>\n",
       "      <td>107.230003</td>\n",
       "      <td>107.269997</td>\n",
       "      <td>106.059998</td>\n",
       "      <td>106.550003</td>\n",
       "      <td>100.628342</td>\n",
       "      <td>3000500</td>\n",
       "      <td>12</td>\n",
       "    </tr>\n",
       "    <tr>\n",
       "      <th>8</th>\n",
       "      <td>2015-12-08</td>\n",
       "      <td>105.940002</td>\n",
       "      <td>106.400002</td>\n",
       "      <td>105.269997</td>\n",
       "      <td>105.910004</td>\n",
       "      <td>100.023895</td>\n",
       "      <td>3149600</td>\n",
       "      <td>12</td>\n",
       "    </tr>\n",
       "    <tr>\n",
       "      <th>9</th>\n",
       "      <td>2015-12-09</td>\n",
       "      <td>105.550003</td>\n",
       "      <td>106.750000</td>\n",
       "      <td>104.480003</td>\n",
       "      <td>105.000000</td>\n",
       "      <td>99.164467</td>\n",
       "      <td>4179800</td>\n",
       "      <td>12</td>\n",
       "    </tr>\n",
       "  </tbody>\n",
       "</table>\n",
       "</div>"
      ],
      "text/plain": [
       "        date        open        high         low       close   adj_close  \\\n",
       "0 2015-11-25  107.510002  107.660004  107.250000  107.470001  101.497200   \n",
       "1 2015-11-27  107.589996  107.760002  107.220001  107.629997  101.648300   \n",
       "2 2015-11-30  107.779999  107.849998  107.110001  107.169998  101.213867   \n",
       "3 2015-12-01  107.589996  108.209999  107.370003  108.180000  102.167740   \n",
       "4 2015-12-02  108.099998  108.269997  106.879997  107.050003  101.100533   \n",
       "5 2015-12-03  107.290001  107.480003  105.059998  105.449997   99.589470   \n",
       "6 2015-12-04  105.809998  107.540001  105.620003  107.389999  101.421646   \n",
       "7 2015-12-07  107.230003  107.269997  106.059998  106.550003  100.628342   \n",
       "8 2015-12-08  105.940002  106.400002  105.269997  105.910004  100.023895   \n",
       "9 2015-12-09  105.550003  106.750000  104.480003  105.000000   99.164467   \n",
       "\n",
       "    volume  month  \n",
       "0  1820300     11  \n",
       "1   552400     11  \n",
       "2  3618100     11  \n",
       "3  2443600     12  \n",
       "4  2937200     12  \n",
       "5  3345600     12  \n",
       "6  4520000     12  \n",
       "7  3000500     12  \n",
       "8  3149600     12  \n",
       "9  4179800     12  "
      ]
     },
     "execution_count": 67,
     "metadata": {},
     "output_type": "execute_result"
    }
   ],
   "source": [
    "df = pd.read_csv(stk_path, sep = \",\")\n",
    "\n",
    "# Convert Date column to datetime\n",
    "df.loc[:, 'Date'] = pd.to_datetime(df['Date'],format='%Y-%m-%d')\n",
    "\n",
    "# Change all column headings to be lower case, and remove spacing\n",
    "df.columns = [str(x).lower().replace(' ', '_') for x in df.columns]\n",
    "\n",
    "# Get month of each sample\n",
    "df['month'] = df['date'].dt.month\n",
    "\n",
    "# Sort by datetime\n",
    "df.sort_values(by='date', inplace=True, ascending=True)\n",
    "\n",
    "df.head(10)"
   ]
  },
  {
   "cell_type": "markdown",
   "metadata": {},
   "source": [
    "# EDA"
   ]
  },
  {
   "cell_type": "code",
   "execution_count": 68,
   "metadata": {},
   "outputs": [
    {
     "data": {
      "text/plain": [
       "<matplotlib.text.Text at 0x1a13448ef0>"
      ]
     },
     "execution_count": 68,
     "metadata": {},
     "output_type": "execute_result"
    },
    {
     "data": {
      "image/png": "[encoded data removed]",
      "text/plain": [
       "<matplotlib.figure.Figure at 0x10f2b7240>"
      ]
     },
     "metadata": {},
     "output_type": "display_data"
    }
   ],
   "source": [
    "# Plot adjusted close over time\n",
    "rcParams['figure.figsize'] = 10, 8 # width 10, height 8\n",
    "\n",
    "ax = df.plot(x='date', y='adj_close', style='b-', grid=True)\n",
    "ax.set_xlabel(\"date\")\n",
    "ax.set_ylabel(\"USD\")"
   ]
  },
  {
   "cell_type": "markdown",
   "metadata": {},
   "source": [
    "# Predict using Moving Average"
   ]
  },
  {
   "cell_type": "code",
   "execution_count": 69,
   "metadata": {
    "scrolled": true
   },
   "outputs": [
    {
     "name": "stdout",
     "output_type": "stream",
     "text": [
      "RMSE = [0.9438709682356782, 1.0442235797616095, 1.1444619456425351, 1.253245073704962, 1.3592653538174628, 1.455650727318346, 1.548819804704165, 1.6405744409777867, 1.7213465985535628, 1.7927304135206565, 1.8582697099384193, 1.91643835646104, 1.9740154508357228, 2.031249744544161, 2.086012904209046, 2.13595069670237, 2.1819284175611746, 2.2295881474542134, 2.278871190565452, 2.3278453099380005, 2.375634206524675]\n"
     ]
    },
    {
     "name": "stderr",
     "output_type": "stream",
     "text": [
      "/Users/yibin/anaconda3/lib/python3.6/site-packages/ipykernel_launcher.py:20: RuntimeWarning: invalid value encountered in less\n"
     ]
    },
    {
     "data": {
      "text/html": [
       "<div>\n",
       "<style scoped>\n",
       "    .dataframe tbody tr th:only-of-type {\n",
       "        vertical-align: middle;\n",
       "    }\n",
       "\n",
       "    .dataframe tbody tr th {\n",
       "        vertical-align: top;\n",
       "    }\n",
       "\n",
       "    .dataframe thead th {\n",
       "        text-align: right;\n",
       "    }\n",
       "</style>\n",
       "<table border=\"1\" class=\"dataframe\">\n",
       "  <thead>\n",
       "    <tr style=\"text-align: right;\">\n",
       "      <th></th>\n",
       "      <th>date</th>\n",
       "      <th>open</th>\n",
       "      <th>high</th>\n",
       "      <th>low</th>\n",
       "      <th>close</th>\n",
       "      <th>adj_close</th>\n",
       "      <th>volume</th>\n",
       "      <th>month</th>\n",
       "      <th>est_N1</th>\n",
       "      <th>est_N2</th>\n",
       "      <th>...</th>\n",
       "      <th>est_N12</th>\n",
       "      <th>est_N13</th>\n",
       "      <th>est_N14</th>\n",
       "      <th>est_N15</th>\n",
       "      <th>est_N16</th>\n",
       "      <th>est_N17</th>\n",
       "      <th>est_N18</th>\n",
       "      <th>est_N19</th>\n",
       "      <th>est_N20</th>\n",
       "      <th>est_N21</th>\n",
       "    </tr>\n",
       "  </thead>\n",
       "  <tbody>\n",
       "    <tr>\n",
       "      <th>0</th>\n",
       "      <td>2015-11-25</td>\n",
       "      <td>107.510002</td>\n",
       "      <td>107.660004</td>\n",
       "      <td>107.250000</td>\n",
       "      <td>107.470001</td>\n",
       "      <td>101.497200</td>\n",
       "      <td>1820300</td>\n",
       "      <td>11</td>\n",
       "      <td>NaN</td>\n",
       "      <td>NaN</td>\n",
       "      <td>...</td>\n",
       "      <td>NaN</td>\n",
       "      <td>NaN</td>\n",
       "      <td>NaN</td>\n",
       "      <td>NaN</td>\n",
       "      <td>NaN</td>\n",
       "      <td>NaN</td>\n",
       "      <td>NaN</td>\n",
       "      <td>NaN</td>\n",
       "      <td>NaN</td>\n",
       "      <td>NaN</td>\n",
       "    </tr>\n",
       "    <tr>\n",
       "      <th>1</th>\n",
       "      <td>2015-11-27</td>\n",
       "      <td>107.589996</td>\n",
       "      <td>107.760002</td>\n",
       "      <td>107.220001</td>\n",
       "      <td>107.629997</td>\n",
       "      <td>101.648300</td>\n",
       "      <td>552400</td>\n",
       "      <td>11</td>\n",
       "      <td>101.497200</td>\n",
       "      <td>101.497200</td>\n",
       "      <td>...</td>\n",
       "      <td>101.497200</td>\n",
       "      <td>101.497200</td>\n",
       "      <td>101.497200</td>\n",
       "      <td>101.497200</td>\n",
       "      <td>101.497200</td>\n",
       "      <td>101.497200</td>\n",
       "      <td>101.497200</td>\n",
       "      <td>101.497200</td>\n",
       "      <td>101.497200</td>\n",
       "      <td>101.497200</td>\n",
       "    </tr>\n",
       "    <tr>\n",
       "      <th>2</th>\n",
       "      <td>2015-11-30</td>\n",
       "      <td>107.779999</td>\n",
       "      <td>107.849998</td>\n",
       "      <td>107.110001</td>\n",
       "      <td>107.169998</td>\n",
       "      <td>101.213867</td>\n",
       "      <td>3618100</td>\n",
       "      <td>11</td>\n",
       "      <td>101.648300</td>\n",
       "      <td>101.572750</td>\n",
       "      <td>...</td>\n",
       "      <td>101.572750</td>\n",
       "      <td>101.572750</td>\n",
       "      <td>101.572750</td>\n",
       "      <td>101.572750</td>\n",
       "      <td>101.572750</td>\n",
       "      <td>101.572750</td>\n",
       "      <td>101.572750</td>\n",
       "      <td>101.572750</td>\n",
       "      <td>101.572750</td>\n",
       "      <td>101.572750</td>\n",
       "    </tr>\n",
       "    <tr>\n",
       "      <th>3</th>\n",
       "      <td>2015-12-01</td>\n",
       "      <td>107.589996</td>\n",
       "      <td>108.209999</td>\n",
       "      <td>107.370003</td>\n",
       "      <td>108.180000</td>\n",
       "      <td>102.167740</td>\n",
       "      <td>2443600</td>\n",
       "      <td>12</td>\n",
       "      <td>101.213867</td>\n",
       "      <td>101.431083</td>\n",
       "      <td>...</td>\n",
       "      <td>101.453122</td>\n",
       "      <td>101.453122</td>\n",
       "      <td>101.453122</td>\n",
       "      <td>101.453122</td>\n",
       "      <td>101.453122</td>\n",
       "      <td>101.453122</td>\n",
       "      <td>101.453122</td>\n",
       "      <td>101.453122</td>\n",
       "      <td>101.453122</td>\n",
       "      <td>101.453122</td>\n",
       "    </tr>\n",
       "    <tr>\n",
       "      <th>4</th>\n",
       "      <td>2015-12-02</td>\n",
       "      <td>108.099998</td>\n",
       "      <td>108.269997</td>\n",
       "      <td>106.879997</td>\n",
       "      <td>107.050003</td>\n",
       "      <td>101.100533</td>\n",
       "      <td>2937200</td>\n",
       "      <td>12</td>\n",
       "      <td>102.167740</td>\n",
       "      <td>101.690803</td>\n",
       "      <td>...</td>\n",
       "      <td>101.631777</td>\n",
       "      <td>101.631777</td>\n",
       "      <td>101.631777</td>\n",
       "      <td>101.631777</td>\n",
       "      <td>101.631777</td>\n",
       "      <td>101.631777</td>\n",
       "      <td>101.631777</td>\n",
       "      <td>101.631777</td>\n",
       "      <td>101.631777</td>\n",
       "      <td>101.631777</td>\n",
       "    </tr>\n",
       "  </tbody>\n",
       "</table>\n",
       "<p>5 rows × 29 columns</p>\n",
       "</div>"
      ],
      "text/plain": [
       "        date        open        high         low       close   adj_close  \\\n",
       "0 2015-11-25  107.510002  107.660004  107.250000  107.470001  101.497200   \n",
       "1 2015-11-27  107.589996  107.760002  107.220001  107.629997  101.648300   \n",
       "2 2015-11-30  107.779999  107.849998  107.110001  107.169998  101.213867   \n",
       "3 2015-12-01  107.589996  108.209999  107.370003  108.180000  102.167740   \n",
       "4 2015-12-02  108.099998  108.269997  106.879997  107.050003  101.100533   \n",
       "\n",
       "    volume  month      est_N1      est_N2     ...         est_N12     est_N13  \\\n",
       "0  1820300     11         NaN         NaN     ...             NaN         NaN   \n",
       "1   552400     11  101.497200  101.497200     ...      101.497200  101.497200   \n",
       "2  3618100     11  101.648300  101.572750     ...      101.572750  101.572750   \n",
       "3  2443600     12  101.213867  101.431083     ...      101.453122  101.453122   \n",
       "4  2937200     12  102.167740  101.690803     ...      101.631777  101.631777   \n",
       "\n",
       "      est_N14     est_N15     est_N16     est_N17     est_N18     est_N19  \\\n",
       "0         NaN         NaN         NaN         NaN         NaN         NaN   \n",
       "1  101.497200  101.497200  101.497200  101.497200  101.497200  101.497200   \n",
       "2  101.572750  101.572750  101.572750  101.572750  101.572750  101.572750   \n",
       "3  101.453122  101.453122  101.453122  101.453122  101.453122  101.453122   \n",
       "4  101.631777  101.631777  101.631777  101.631777  101.631777  101.631777   \n",
       "\n",
       "      est_N20     est_N21  \n",
       "0         NaN         NaN  \n",
       "1  101.497200  101.497200  \n",
       "2  101.572750  101.572750  \n",
       "3  101.453122  101.453122  \n",
       "4  101.631777  101.631777  \n",
       "\n",
       "[5 rows x 29 columns]"
      ]
     },
     "execution_count": 69,
     "metadata": {},
     "output_type": "execute_result"
    }
   ],
   "source": [
    "RMSE = []\n",
    "for N in range(1, Nmax+1): # N is no. of samples to use to predict the next value\n",
    "    est_list = get_preds_mov_avg(df, 'adj_close', N, 0)\n",
    "    \n",
    "#     df['est' + '_N' + str(N)] = np.concatenate((np.zeros(N), est_list))\n",
    "    df['est' + '_N' + str(N)] = est_list\n",
    "    RMSE.append(math.sqrt(mean_squared_error(est_list[N:], df['adj_close'][N:])))\n",
    "print('RMSE = ' + str(RMSE))\n",
    "df.head()"
   ]
  },
  {
   "cell_type": "code",
   "execution_count": 70,
   "metadata": {},
   "outputs": [
    {
     "data": {
      "text/plain": [
       "<matplotlib.text.Text at 0x1a1340dd30>"
      ]
     },
     "execution_count": 70,
     "metadata": {},
     "output_type": "execute_result"
    },
    {
     "data": {
      "image/png": "[encoded data removed]",
      "text/plain": [
       "<matplotlib.figure.Figure at 0x1a13818550>"
      ]
     },
     "metadata": {},
     "output_type": "display_data"
    }
   ],
   "source": [
    "# Plot RMSE versus N\n",
    "plt.figure(figsize=(12, 8), dpi=80)\n",
    "plt.plot(range(1, Nmax+1), RMSE, 'x-')\n",
    "plt.grid()\n",
    "plt.xlabel('N')\n",
    "plt.ylabel('RMSE')"
   ]
  },
  {
   "cell_type": "markdown",
   "metadata": {},
   "source": [
    "# Plot Predictions"
   ]
  },
  {
   "cell_type": "code",
   "execution_count": 71,
   "metadata": {},
   "outputs": [
    {
     "data": {
      "text/plain": [
       "<matplotlib.text.Text at 0x1a13a12438>"
      ]
     },
     "execution_count": 71,
     "metadata": {},
     "output_type": "execute_result"
    },
    {
     "data": {
      "image/png": "[encoded data removed]",
      "text/plain": [
       "<matplotlib.figure.Figure at 0x1a135f8400>"
      ]
     },
     "metadata": {},
     "output_type": "display_data"
    }
   ],
   "source": [
    "# Plot adjusted close over time\n",
    "rcParams['figure.figsize'] = 10, 8 # width 10, height 8\n",
    "\n",
    "ax = df.plot(x='date', y='adj_close', style='b-', grid=True)\n",
    "ax = df[1:].plot(x='date', y='est_N1', style='y-', grid=True, ax=ax)\n",
    "ax = df[5:].plot(x='date', y='est_N2', style='g-', grid=True, ax=ax)\n",
    "ax.set_xlabel(\"date\")\n",
    "ax.set_ylabel(\"USD\")"
   ]
  },
  {
   "cell_type": "markdown",
   "metadata": {},
   "source": [
    "# Findings\n",
    "* The lowest RMSE is 0.94 which is achieved using N=1, ie. using value on day t-1 to predict value on day t\n",
    "* The next lowest RMSE is 1.04 which is achieved using N=2, ie. using values from days t-2 to t-1 to predict value on day t"
   ]
  }
 ],
 "metadata": {
  "kernelspec": {
   "display_name": "Python 3",
   "language": "python",
   "name": "python3"
  },
  "language_info": {
   "codemirror_mode": {
    "name": "ipython",
    "version": 3
   },
   "file_extension": ".py",
   "mimetype": "text/x-python",
   "name": "python",
   "nbconvert_exporter": "python",
   "pygments_lexer": "ipython3",
   "version": "3.6.2"
  }
 },
 "nbformat": 4,
 "nbformat_minor": 2
}
