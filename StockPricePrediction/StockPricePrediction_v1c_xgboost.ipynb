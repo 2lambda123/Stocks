{
 "cells": [
  {
   "cell_type": "markdown",
   "metadata": {},
   "source": [
    "# Objective\n",
    "* 20181225: \n",
    "    * Predict stock price in next day using XGBoost\n",
    "    * Given prices and other features for the last N days, we do prediction for day N+1\n",
    "    * Here we split 3 years of data into train(60%), dev(20%) and test(20%)\n",
    "* 20190110 - Diff from StockPricePrediction_v1_xgboost.ipynb:\n",
    "    * Here we scale the train set to have mean 0 and variance 1, and apply the same transformation to dev and test sets\n",
    "* 20190111 - Diff from StockPricePrediction_v1a_xgboost.ipynb:\n",
    "    * Here for the past N values for the dev set, we scale them to have mean 0 and variance 1, and do prediction on them\n",
    "* 20190112 - Diff from StockPricePrediction_v1b_xgboost.ipynb:\n",
    "    * Instead of using the same mean and variance to do scaling for train, dev and test sets, we scale the train set to have mean 0 and var 1, and then whenever we do prediction on dev or test set we scale the previous N values to also have mean 0 and var 1 (ie. use the means and variances of the previous N values to do scaling. We do this for both feature columns and target columns)"
   ]
  },
  {
   "cell_type": "code",
   "execution_count": 803,
   "metadata": {
    "collapsed": true
   },
   "outputs": [],
   "source": [
    "import math\n",
    "import matplotlib\n",
    "import numpy as np\n",
    "import pandas as pd\n",
    "import seaborn as sns\n",
    "import time\n",
    "\n",
    "from datetime import date\n",
    "from matplotlib import pyplot as plt\n",
    "from pylab import rcParams\n",
    "from sklearn.metrics import mean_squared_error\n",
    "from sklearn.preprocessing import StandardScaler\n",
    "from tqdm import tqdm_notebook\n",
    "from xgboost import XGBRegressor\n",
    "\n",
    "%matplotlib inline\n",
    "\n",
    "#### Input params ##################\n",
    "stk_path = \"./data/VTI.csv\"\n",
    "test_size = 0.2                # proportion of dataset to be used as test set\n",
    "cv_size = 0.2                  # proportion of dataset to be used as cross-validation set\n",
    "N = 3                         # for feature at day t, we use lags from t-1, t-2, ..., t-N as features\n",
    "\n",
    "n_estimators = 100             # Number of boosted trees to fit. default = 100\n",
    "max_depth = 3                  # Maximum tree depth for base learners. default = 3\n",
    "learning_rate = 0.1            # Boosting learning rate (xgb’s “eta”). default = 0.1\n",
    "min_child_weight = 1           # Minimum sum of instance weight(hessian) needed in a child. default = 1\n",
    "subsample = 1                  # Subsample ratio of the training instance. default = 1\n",
    "colsample_bytree = 1           # Subsample ratio of columns when constructing each tree. default = 1\n",
    "colsample_bylevel = 1          # Subsample ratio of columns for each split, in each level. default = 1\n",
    "gamma = 0                      # Minimum loss reduction required to make a further partition on a leaf node of the tree. default=0\n",
    "\n",
    "model_seed = 100\n",
    "\n",
    "fontsize = 14\n",
    "ticklabelsize = 14\n",
    "####################################"
   ]
  },
  {
   "cell_type": "markdown",
   "metadata": {},
   "source": [
    "# Common functions"
   ]
  },
  {
   "cell_type": "code",
   "execution_count": 804,
   "metadata": {},
   "outputs": [],
   "source": [
    "def get_mov_avg_std(df, col, N):\n",
    "    \"\"\"\n",
    "    Given a dataframe, get mean and std dev at timestep t using values from t-1, t-2, ..., t-N.\n",
    "    Inputs\n",
    "        df         : dataframe. Can be of any length.\n",
    "        col        : name of the column you want to calculate mean and std dev\n",
    "        N          : get mean and std dev at timestep t using values from t-1, t-2, ..., t-N\n",
    "    Outputs\n",
    "        df_out     : same as df but with additional column containing mean and std dev\n",
    "    \"\"\"\n",
    "    mean_list = df[col].rolling(window = N, min_periods=1).mean() # len(mean_list) = len(df)\n",
    "    std_list = df[col].rolling(window = N, min_periods=1).std()   # first value will be NaN, because normalized by N-1\n",
    "    \n",
    "    # Add one timestep to the predictions\n",
    "    mean_list = np.concatenate((np.array([np.nan]), np.array(mean_list[:-1])))\n",
    "    std_list = np.concatenate((np.array([np.nan]), np.array(std_list[:-1])))\n",
    "    \n",
    "    # Append mean_list to df\n",
    "    df_out = df.copy()\n",
    "    df_out[col + '_mean'] = mean_list\n",
    "    df_out[col + '_std'] = std_list\n",
    "    \n",
    "    return df_out\n",
    "\n",
    "def scale_row(row, feat_mean, feat_std):\n",
    "    \"\"\"\n",
    "    Given a pandas series in row, scale it to have 0 mean and var 1 using feat_mean and feat_std\n",
    "    Inputs\n",
    "        row      : pandas series. Need to scale this.\n",
    "        feat_mean: mean  \n",
    "        feat_std : standard deviation\n",
    "    Outputs\n",
    "        row_scaled : pandas series with same length as row, but scaled\n",
    "    \"\"\"\n",
    "    # If feat_std = 0 (this happens if adj_close doesn't change over N days), \n",
    "    # set it to a small number to avoid division by zero\n",
    "    feat_std = 0.001 if feat_std == 0 else feat_std\n",
    "    \n",
    "    row_scaled = (row-feat_mean) / feat_std\n",
    "    \n",
    "    return row_scaled\n",
    "\n",
    "def get_mape(y_true, y_pred): \n",
    "    \"\"\"\n",
    "    Compute mean absolute percentage error (MAPE)\n",
    "    \"\"\"\n",
    "    y_true, y_pred = np.array(y_true), np.array(y_pred)\n",
    "    return np.mean(np.abs((y_true - y_pred) / y_true)) * 100\n",
    "\n",
    "def train_pred_eval_model(X_train_scaled, \\\n",
    "                          y_train_scaled, \\\n",
    "                          X_cv_scaled, \\\n",
    "                          y_cv, \\\n",
    "                          col_mean, \\\n",
    "                          col_std, \\\n",
    "                          seed=100, \\\n",
    "                          n_estimators=100, \\\n",
    "                          max_depth=3, \\\n",
    "                          learning_rate=0.1, \\\n",
    "                          min_child_weight=1, \\\n",
    "                          subsample=1, \\\n",
    "                          colsample_bytree=1, \\\n",
    "                          colsample_bylevel=1, \\\n",
    "                          gamma=0):\n",
    "    '''\n",
    "    Train model, do prediction, scale back to original range and do evaluation\n",
    "    Use XGBoost here.\n",
    "    Returns rmse, mape and predicted values\n",
    "    '''\n",
    "\n",
    "    model = XGBRegressor(seed=model_seed,\n",
    "                         n_estimators=n_estimators,\n",
    "                         max_depth=max_depth,\n",
    "                         learning_rate=learning_rate,\n",
    "                         min_child_weight=min_child_weight,\n",
    "                         subsample=subsample,\n",
    "                         colsample_bytree=colsample_bytree,\n",
    "                         colsample_bylevel=colsample_bylevel,\n",
    "                         gamma=gamma)\n",
    "    \n",
    "    # Train the model\n",
    "    model.fit(X_train_scaled, y_train_scaled)\n",
    "    \n",
    "    # Get predicted labels and scale back to original range\n",
    "    est_scaled = model.predict(X_cv_scaled)\n",
    "    est = est_scaled * col_std + col_mean\n",
    "\n",
    "    # Calculate RMSE\n",
    "    rmse = math.sqrt(mean_squared_error(y_cv, est))\n",
    "    mape = get_mape(y_cv, est)\n",
    "    \n",
    "    return rmse, mape, est"
   ]
  },
  {
   "cell_type": "markdown",
   "metadata": {},
   "source": [
    "# Load data"
   ]
  },
  {
   "cell_type": "code",
   "execution_count": 805,
   "metadata": {},
   "outputs": [
    {
     "data": {
      "text/html": [
       "<div>\n",
       "<style scoped>\n",
       "    .dataframe tbody tr th:only-of-type {\n",
       "        vertical-align: middle;\n",
       "    }\n",
       "\n",
       "    .dataframe tbody tr th {\n",
       "        vertical-align: top;\n",
       "    }\n",
       "\n",
       "    .dataframe thead th {\n",
       "        text-align: right;\n",
       "    }\n",
       "</style>\n",
       "<table border=\"1\" class=\"dataframe\">\n",
       "  <thead>\n",
       "    <tr style=\"text-align: right;\">\n",
       "      <th></th>\n",
       "      <th>date</th>\n",
       "      <th>open</th>\n",
       "      <th>high</th>\n",
       "      <th>low</th>\n",
       "      <th>close</th>\n",
       "      <th>adj_close</th>\n",
       "      <th>volume</th>\n",
       "      <th>month</th>\n",
       "    </tr>\n",
       "  </thead>\n",
       "  <tbody>\n",
       "    <tr>\n",
       "      <th>0</th>\n",
       "      <td>2015-11-25</td>\n",
       "      <td>107.510002</td>\n",
       "      <td>107.660004</td>\n",
       "      <td>107.250000</td>\n",
       "      <td>107.470001</td>\n",
       "      <td>101.497200</td>\n",
       "      <td>1820300</td>\n",
       "      <td>11</td>\n",
       "    </tr>\n",
       "    <tr>\n",
       "      <th>1</th>\n",
       "      <td>2015-11-27</td>\n",
       "      <td>107.589996</td>\n",
       "      <td>107.760002</td>\n",
       "      <td>107.220001</td>\n",
       "      <td>107.629997</td>\n",
       "      <td>101.648300</td>\n",
       "      <td>552400</td>\n",
       "      <td>11</td>\n",
       "    </tr>\n",
       "    <tr>\n",
       "      <th>2</th>\n",
       "      <td>2015-11-30</td>\n",
       "      <td>107.779999</td>\n",
       "      <td>107.849998</td>\n",
       "      <td>107.110001</td>\n",
       "      <td>107.169998</td>\n",
       "      <td>101.213867</td>\n",
       "      <td>3618100</td>\n",
       "      <td>11</td>\n",
       "    </tr>\n",
       "    <tr>\n",
       "      <th>3</th>\n",
       "      <td>2015-12-01</td>\n",
       "      <td>107.589996</td>\n",
       "      <td>108.209999</td>\n",
       "      <td>107.370003</td>\n",
       "      <td>108.180000</td>\n",
       "      <td>102.167740</td>\n",
       "      <td>2443600</td>\n",
       "      <td>12</td>\n",
       "    </tr>\n",
       "    <tr>\n",
       "      <th>4</th>\n",
       "      <td>2015-12-02</td>\n",
       "      <td>108.099998</td>\n",
       "      <td>108.269997</td>\n",
       "      <td>106.879997</td>\n",
       "      <td>107.050003</td>\n",
       "      <td>101.100533</td>\n",
       "      <td>2937200</td>\n",
       "      <td>12</td>\n",
       "    </tr>\n",
       "  </tbody>\n",
       "</table>\n",
       "</div>"
      ],
      "text/plain": [
       "        date        open        high         low       close   adj_close  \\\n",
       "0 2015-11-25  107.510002  107.660004  107.250000  107.470001  101.497200   \n",
       "1 2015-11-27  107.589996  107.760002  107.220001  107.629997  101.648300   \n",
       "2 2015-11-30  107.779999  107.849998  107.110001  107.169998  101.213867   \n",
       "3 2015-12-01  107.589996  108.209999  107.370003  108.180000  102.167740   \n",
       "4 2015-12-02  108.099998  108.269997  106.879997  107.050003  101.100533   \n",
       "\n",
       "    volume  month  \n",
       "0  1820300     11  \n",
       "1   552400     11  \n",
       "2  3618100     11  \n",
       "3  2443600     12  \n",
       "4  2937200     12  "
      ]
     },
     "execution_count": 805,
     "metadata": {},
     "output_type": "execute_result"
    }
   ],
   "source": [
    "df = pd.read_csv(stk_path, sep = \",\")\n",
    "\n",
    "# Convert Date column to datetime\n",
    "df.loc[:, 'Date'] = pd.to_datetime(df['Date'],format='%Y-%m-%d')\n",
    "\n",
    "# Change all column headings to be lower case, and remove spacing\n",
    "df.columns = [str(x).lower().replace(' ', '_') for x in df.columns]\n",
    "\n",
    "# Get month of each sample\n",
    "df['month'] = df['date'].dt.month\n",
    "\n",
    "# Sort by datetime\n",
    "df.sort_values(by='date', inplace=True, ascending=True)\n",
    "\n",
    "df.head()"
   ]
  },
  {
   "cell_type": "code",
   "execution_count": 806,
   "metadata": {},
   "outputs": [
    {
     "data": {
      "text/plain": [
       "<matplotlib.text.Text at 0x1a31df16d8>"
      ]
     },
     "execution_count": 806,
     "metadata": {},
     "output_type": "execute_result"
    },
    {
     "data": {
      "image/png": "[encoded data removed]",
      "text/plain": [
       "<matplotlib.figure.Figure at 0x1a315b3208>"
      ]
     },
     "metadata": {},
     "output_type": "display_data"
    }
   ],
   "source": [
    "# Plot adjusted close over time\n",
    "rcParams['figure.figsize'] = 10, 8 # width 10, height 8\n",
    "\n",
    "ax = df.plot(x='date', y='adj_close', style='b-', grid=True)\n",
    "ax.set_xlabel(\"date\")\n",
    "ax.set_ylabel(\"USD\")"
   ]
  },
  {
   "cell_type": "markdown",
   "metadata": {},
   "source": [
    "# Feature Engineering"
   ]
  },
  {
   "cell_type": "markdown",
   "metadata": {
    "collapsed": true
   },
   "source": [
    "We will generate the following features:\n",
    "* Mean 'adj_close' of each month\n",
    "* Difference between high and low of each day\n",
    "* Difference between open and close of each day\n",
    "* Mean volume of each month"
   ]
  },
  {
   "cell_type": "code",
   "execution_count": 807,
   "metadata": {
    "scrolled": true
   },
   "outputs": [
    {
     "data": {
      "text/html": [
       "<div>\n",
       "<style scoped>\n",
       "    .dataframe tbody tr th:only-of-type {\n",
       "        vertical-align: middle;\n",
       "    }\n",
       "\n",
       "    .dataframe tbody tr th {\n",
       "        vertical-align: top;\n",
       "    }\n",
       "\n",
       "    .dataframe thead th {\n",
       "        text-align: right;\n",
       "    }\n",
       "</style>\n",
       "<table border=\"1\" class=\"dataframe\">\n",
       "  <thead>\n",
       "    <tr style=\"text-align: right;\">\n",
       "      <th></th>\n",
       "      <th>date</th>\n",
       "      <th>adj_close</th>\n",
       "      <th>volume</th>\n",
       "      <th>month</th>\n",
       "      <th>range_hl</th>\n",
       "      <th>range_oc</th>\n",
       "    </tr>\n",
       "  </thead>\n",
       "  <tbody>\n",
       "    <tr>\n",
       "      <th>0</th>\n",
       "      <td>2015-11-25</td>\n",
       "      <td>101.497200</td>\n",
       "      <td>1820300</td>\n",
       "      <td>11</td>\n",
       "      <td>0.410004</td>\n",
       "      <td>0.040001</td>\n",
       "    </tr>\n",
       "    <tr>\n",
       "      <th>1</th>\n",
       "      <td>2015-11-27</td>\n",
       "      <td>101.648300</td>\n",
       "      <td>552400</td>\n",
       "      <td>11</td>\n",
       "      <td>0.540001</td>\n",
       "      <td>-0.040001</td>\n",
       "    </tr>\n",
       "    <tr>\n",
       "      <th>2</th>\n",
       "      <td>2015-11-30</td>\n",
       "      <td>101.213867</td>\n",
       "      <td>3618100</td>\n",
       "      <td>11</td>\n",
       "      <td>0.739997</td>\n",
       "      <td>0.610001</td>\n",
       "    </tr>\n",
       "    <tr>\n",
       "      <th>3</th>\n",
       "      <td>2015-12-01</td>\n",
       "      <td>102.167740</td>\n",
       "      <td>2443600</td>\n",
       "      <td>12</td>\n",
       "      <td>0.839996</td>\n",
       "      <td>-0.590004</td>\n",
       "    </tr>\n",
       "    <tr>\n",
       "      <th>4</th>\n",
       "      <td>2015-12-02</td>\n",
       "      <td>101.100533</td>\n",
       "      <td>2937200</td>\n",
       "      <td>12</td>\n",
       "      <td>1.390000</td>\n",
       "      <td>1.049995</td>\n",
       "    </tr>\n",
       "  </tbody>\n",
       "</table>\n",
       "</div>"
      ],
      "text/plain": [
       "        date   adj_close   volume  month  range_hl  range_oc\n",
       "0 2015-11-25  101.497200  1820300     11  0.410004  0.040001\n",
       "1 2015-11-27  101.648300   552400     11  0.540001 -0.040001\n",
       "2 2015-11-30  101.213867  3618100     11  0.739997  0.610001\n",
       "3 2015-12-01  102.167740  2443600     12  0.839996 -0.590004\n",
       "4 2015-12-02  101.100533  2937200     12  1.390000  1.049995"
      ]
     },
     "execution_count": 807,
     "metadata": {},
     "output_type": "execute_result"
    }
   ],
   "source": [
    "# Get difference between high and low of each day\n",
    "df['range_hl'] = df['high'] - df['low']\n",
    "df.drop(['high', 'low'], axis=1, inplace=True)\n",
    "\n",
    "# Get difference between open and close of each day\n",
    "df['range_oc'] = df['open'] - df['close']\n",
    "df.drop(['open', 'close'], axis=1, inplace=True)\n",
    "\n",
    "df.head()"
   ]
  },
  {
   "cell_type": "markdown",
   "metadata": {},
   "source": [
    "Now we use lags up to N number of days to use as features."
   ]
  },
  {
   "cell_type": "code",
   "execution_count": 808,
   "metadata": {},
   "outputs": [
    {
     "data": {
      "text/plain": [
       "['adj_close', 'range_hl', 'range_oc', 'volume']"
      ]
     },
     "execution_count": 808,
     "metadata": {},
     "output_type": "execute_result"
    }
   ],
   "source": [
    "# Add a column 'order_day' to indicate the order of the rows by date\n",
    "df['order_day'] = [x for x in list(range(len(df)))]\n",
    "\n",
    "# merging_keys\n",
    "merging_keys = ['order_day']\n",
    "\n",
    "# List of columns that we will use to create lags\n",
    "lag_cols = ['adj_close', 'range_hl', 'range_oc', 'volume']\n",
    "lag_cols"
   ]
  },
  {
   "cell_type": "code",
   "execution_count": 809,
   "metadata": {},
   "outputs": [
    {
     "data": {
      "application/vnd.jupyter.widget-view+json": {
       "model_id": "8d6136cf93454694bf60bb27de0ee240",
       "version_major": 2,
       "version_minor": 0
      },
      "text/plain": [
       "A Jupyter Widget"
      ]
     },
     "metadata": {},
     "output_type": "display_data"
    },
    {
     "name": "stdout",
     "output_type": "stream",
     "text": [
      "\n"
     ]
    },
    {
     "data": {
      "text/html": [
       "<div>\n",
       "<style scoped>\n",
       "    .dataframe tbody tr th:only-of-type {\n",
       "        vertical-align: middle;\n",
       "    }\n",
       "\n",
       "    .dataframe tbody tr th {\n",
       "        vertical-align: top;\n",
       "    }\n",
       "\n",
       "    .dataframe thead th {\n",
       "        text-align: right;\n",
       "    }\n",
       "</style>\n",
       "<table border=\"1\" class=\"dataframe\">\n",
       "  <thead>\n",
       "    <tr style=\"text-align: right;\">\n",
       "      <th></th>\n",
       "      <th>date</th>\n",
       "      <th>adj_close</th>\n",
       "      <th>volume</th>\n",
       "      <th>month</th>\n",
       "      <th>range_hl</th>\n",
       "      <th>range_oc</th>\n",
       "      <th>order_day</th>\n",
       "      <th>adj_close_lag_1</th>\n",
       "      <th>range_hl_lag_1</th>\n",
       "      <th>range_oc_lag_1</th>\n",
       "      <th>volume_lag_1</th>\n",
       "      <th>adj_close_lag_2</th>\n",
       "      <th>range_hl_lag_2</th>\n",
       "      <th>range_oc_lag_2</th>\n",
       "      <th>volume_lag_2</th>\n",
       "      <th>adj_close_lag_3</th>\n",
       "      <th>range_hl_lag_3</th>\n",
       "      <th>range_oc_lag_3</th>\n",
       "      <th>volume_lag_3</th>\n",
       "    </tr>\n",
       "  </thead>\n",
       "  <tbody>\n",
       "    <tr>\n",
       "      <th>3</th>\n",
       "      <td>2015-12-01</td>\n",
       "      <td>102.167740</td>\n",
       "      <td>2443600</td>\n",
       "      <td>12</td>\n",
       "      <td>0.839996</td>\n",
       "      <td>-0.590004</td>\n",
       "      <td>3</td>\n",
       "      <td>101.213867</td>\n",
       "      <td>0.739997</td>\n",
       "      <td>0.610001</td>\n",
       "      <td>3618100.0</td>\n",
       "      <td>101.648300</td>\n",
       "      <td>0.540001</td>\n",
       "      <td>-0.040001</td>\n",
       "      <td>552400.0</td>\n",
       "      <td>101.497200</td>\n",
       "      <td>0.410004</td>\n",
       "      <td>0.040001</td>\n",
       "      <td>1820300.0</td>\n",
       "    </tr>\n",
       "    <tr>\n",
       "      <th>4</th>\n",
       "      <td>2015-12-02</td>\n",
       "      <td>101.100533</td>\n",
       "      <td>2937200</td>\n",
       "      <td>12</td>\n",
       "      <td>1.390000</td>\n",
       "      <td>1.049995</td>\n",
       "      <td>4</td>\n",
       "      <td>102.167740</td>\n",
       "      <td>0.839996</td>\n",
       "      <td>-0.590004</td>\n",
       "      <td>2443600.0</td>\n",
       "      <td>101.213867</td>\n",
       "      <td>0.739997</td>\n",
       "      <td>0.610001</td>\n",
       "      <td>3618100.0</td>\n",
       "      <td>101.648300</td>\n",
       "      <td>0.540001</td>\n",
       "      <td>-0.040001</td>\n",
       "      <td>552400.0</td>\n",
       "    </tr>\n",
       "    <tr>\n",
       "      <th>5</th>\n",
       "      <td>2015-12-03</td>\n",
       "      <td>99.589470</td>\n",
       "      <td>3345600</td>\n",
       "      <td>12</td>\n",
       "      <td>2.420005</td>\n",
       "      <td>1.840004</td>\n",
       "      <td>5</td>\n",
       "      <td>101.100533</td>\n",
       "      <td>1.390000</td>\n",
       "      <td>1.049995</td>\n",
       "      <td>2937200.0</td>\n",
       "      <td>102.167740</td>\n",
       "      <td>0.839996</td>\n",
       "      <td>-0.590004</td>\n",
       "      <td>2443600.0</td>\n",
       "      <td>101.213867</td>\n",
       "      <td>0.739997</td>\n",
       "      <td>0.610001</td>\n",
       "      <td>3618100.0</td>\n",
       "    </tr>\n",
       "    <tr>\n",
       "      <th>6</th>\n",
       "      <td>2015-12-04</td>\n",
       "      <td>101.421646</td>\n",
       "      <td>4520000</td>\n",
       "      <td>12</td>\n",
       "      <td>1.919998</td>\n",
       "      <td>-1.580001</td>\n",
       "      <td>6</td>\n",
       "      <td>99.589470</td>\n",
       "      <td>2.420005</td>\n",
       "      <td>1.840004</td>\n",
       "      <td>3345600.0</td>\n",
       "      <td>101.100533</td>\n",
       "      <td>1.390000</td>\n",
       "      <td>1.049995</td>\n",
       "      <td>2937200.0</td>\n",
       "      <td>102.167740</td>\n",
       "      <td>0.839996</td>\n",
       "      <td>-0.590004</td>\n",
       "      <td>2443600.0</td>\n",
       "    </tr>\n",
       "    <tr>\n",
       "      <th>7</th>\n",
       "      <td>2015-12-07</td>\n",
       "      <td>100.628342</td>\n",
       "      <td>3000500</td>\n",
       "      <td>12</td>\n",
       "      <td>1.209999</td>\n",
       "      <td>0.680000</td>\n",
       "      <td>7</td>\n",
       "      <td>101.421646</td>\n",
       "      <td>1.919998</td>\n",
       "      <td>-1.580001</td>\n",
       "      <td>4520000.0</td>\n",
       "      <td>99.589470</td>\n",
       "      <td>2.420005</td>\n",
       "      <td>1.840004</td>\n",
       "      <td>3345600.0</td>\n",
       "      <td>101.100533</td>\n",
       "      <td>1.390000</td>\n",
       "      <td>1.049995</td>\n",
       "      <td>2937200.0</td>\n",
       "    </tr>\n",
       "  </tbody>\n",
       "</table>\n",
       "</div>"
      ],
      "text/plain": [
       "        date   adj_close   volume  month  range_hl  range_oc  order_day  \\\n",
       "3 2015-12-01  102.167740  2443600     12  0.839996 -0.590004          3   \n",
       "4 2015-12-02  101.100533  2937200     12  1.390000  1.049995          4   \n",
       "5 2015-12-03   99.589470  3345600     12  2.420005  1.840004          5   \n",
       "6 2015-12-04  101.421646  4520000     12  1.919998 -1.580001          6   \n",
       "7 2015-12-07  100.628342  3000500     12  1.209999  0.680000          7   \n",
       "\n",
       "   adj_close_lag_1  range_hl_lag_1  range_oc_lag_1  volume_lag_1  \\\n",
       "3       101.213867        0.739997        0.610001     3618100.0   \n",
       "4       102.167740        0.839996       -0.590004     2443600.0   \n",
       "5       101.100533        1.390000        1.049995     2937200.0   \n",
       "6        99.589470        2.420005        1.840004     3345600.0   \n",
       "7       101.421646        1.919998       -1.580001     4520000.0   \n",
       "\n",
       "   adj_close_lag_2  range_hl_lag_2  range_oc_lag_2  volume_lag_2  \\\n",
       "3       101.648300        0.540001       -0.040001      552400.0   \n",
       "4       101.213867        0.739997        0.610001     3618100.0   \n",
       "5       102.167740        0.839996       -0.590004     2443600.0   \n",
       "6       101.100533        1.390000        1.049995     2937200.0   \n",
       "7        99.589470        2.420005        1.840004     3345600.0   \n",
       "\n",
       "   adj_close_lag_3  range_hl_lag_3  range_oc_lag_3  volume_lag_3  \n",
       "3       101.497200        0.410004        0.040001     1820300.0  \n",
       "4       101.648300        0.540001       -0.040001      552400.0  \n",
       "5       101.213867        0.739997        0.610001     3618100.0  \n",
       "6       102.167740        0.839996       -0.590004     2443600.0  \n",
       "7       101.100533        1.390000        1.049995     2937200.0  "
      ]
     },
     "execution_count": 809,
     "metadata": {},
     "output_type": "execute_result"
    }
   ],
   "source": [
    "shift_range = [x+1 for x in range(N)]\n",
    "\n",
    "for shift in tqdm_notebook(shift_range):\n",
    "    train_shift = df[merging_keys + lag_cols].copy()\n",
    "    \n",
    "    # E.g. order_day of 0 becomes 1, for shift = 1.\n",
    "    # So when this is merged with order_day of 1 in df, this will represent lag of 1.\n",
    "    train_shift['order_day'] = train_shift['order_day'] + shift\n",
    "    \n",
    "    foo = lambda x: '{}_lag_{}'.format(x, shift) if x in lag_cols else x\n",
    "    train_shift = train_shift.rename(columns=foo)\n",
    "\n",
    "    df = pd.merge(df, train_shift, on=merging_keys, how='left') #.fillna(0)\n",
    "    \n",
    "del train_shift\n",
    "\n",
    "# Remove the first N rows which contain NaNs\n",
    "df = df[N:]\n",
    "    \n",
    "df.head()"
   ]
  },
  {
   "cell_type": "code",
   "execution_count": 810,
   "metadata": {},
   "outputs": [
    {
     "name": "stdout",
     "output_type": "stream",
     "text": [
      "<class 'pandas.core.frame.DataFrame'>\n",
      "Int64Index: 752 entries, 3 to 754\n",
      "Data columns (total 19 columns):\n",
      "date               752 non-null datetime64[ns]\n",
      "adj_close          752 non-null float64\n",
      "volume             752 non-null int64\n",
      "month              752 non-null int64\n",
      "range_hl           752 non-null float64\n",
      "range_oc           752 non-null float64\n",
      "order_day          752 non-null int64\n",
      "adj_close_lag_1    752 non-null float64\n",
      "range_hl_lag_1     752 non-null float64\n",
      "range_oc_lag_1     752 non-null float64\n",
      "volume_lag_1       752 non-null float64\n",
      "adj_close_lag_2    752 non-null float64\n",
      "range_hl_lag_2     752 non-null float64\n",
      "range_oc_lag_2     752 non-null float64\n",
      "volume_lag_2       752 non-null float64\n",
      "adj_close_lag_3    752 non-null float64\n",
      "range_hl_lag_3     752 non-null float64\n",
      "range_oc_lag_3     752 non-null float64\n",
      "volume_lag_3       752 non-null float64\n",
      "dtypes: datetime64[ns](1), float64(15), int64(3)\n",
      "memory usage: 117.5 KB\n"
     ]
    }
   ],
   "source": [
    "df.info()"
   ]
  },
  {
   "cell_type": "code",
   "execution_count": 811,
   "metadata": {
    "collapsed": true
   },
   "outputs": [],
   "source": [
    "# # Get mean of adj_close of each month\n",
    "# df_gb = df.groupby(['month'], as_index=False).agg({'adj_close':'mean'})\n",
    "# df_gb = df_gb.rename(columns={'adj_close':'adj_close_mean'})\n",
    "# df_gb\n",
    "\n",
    "# # Merge to main df\n",
    "# df = df.merge(df_gb, \n",
    "#               left_on=['month'], \n",
    "#               right_on=['month'],\n",
    "#               how='left').fillna(0)\n",
    "\n",
    "# # Merge to main df\n",
    "# shift_range = [x+1 for x in range(2)]\n",
    "\n",
    "# for shift in tqdm_notebook(shift_range):\n",
    "#     train_shift = df[merging_keys + lag_cols].copy()\n",
    "    \n",
    "#     # E.g. order_day of 0 becomes 1, for shift = 1.\n",
    "#     # So when this is merged with order_day of 1 in df, this will represent lag of 1.\n",
    "#     train_shift['order_day'] = train_shift['order_day'] + shift\n",
    "    \n",
    "#     foo = lambda x: '{}_lag_{}'.format(x, shift) if x in lag_cols else x\n",
    "#     train_shift = train_shift.rename(columns=foo)\n",
    "\n",
    "#     df = pd.merge(df, train_shift, on=merging_keys, how='left') #.fillna(0)\n",
    "    \n",
    "# del train_shift\n",
    "    \n",
    "# df"
   ]
  },
  {
   "cell_type": "code",
   "execution_count": 812,
   "metadata": {
    "collapsed": true
   },
   "outputs": [],
   "source": [
    "# # Get mean of volume of each month\n",
    "# df_gb = df.groupby(['month'], as_index=False).agg({'volume':'mean'})\n",
    "# df_gb = df_gb.rename(columns={'volume':'volume_mean'})\n",
    "# df_gb\n",
    "\n",
    "# # Merge to main df\n",
    "# df = df.merge(df_gb, \n",
    "#               left_on=['month'], \n",
    "#               right_on=['month'],\n",
    "#               how='left').fillna(0)\n",
    "\n",
    "# df.head()"
   ]
  },
  {
   "cell_type": "markdown",
   "metadata": {},
   "source": [
    "# Get mean and std dev at timestamp t using values from t-1, ..., t-N"
   ]
  },
  {
   "cell_type": "code",
   "execution_count": 813,
   "metadata": {},
   "outputs": [
    {
     "data": {
      "text/html": [
       "<div>\n",
       "<style scoped>\n",
       "    .dataframe tbody tr th:only-of-type {\n",
       "        vertical-align: middle;\n",
       "    }\n",
       "\n",
       "    .dataframe tbody tr th {\n",
       "        vertical-align: top;\n",
       "    }\n",
       "\n",
       "    .dataframe thead th {\n",
       "        text-align: right;\n",
       "    }\n",
       "</style>\n",
       "<table border=\"1\" class=\"dataframe\">\n",
       "  <thead>\n",
       "    <tr style=\"text-align: right;\">\n",
       "      <th></th>\n",
       "      <th>date</th>\n",
       "      <th>adj_close</th>\n",
       "      <th>volume</th>\n",
       "      <th>month</th>\n",
       "      <th>range_hl</th>\n",
       "      <th>range_oc</th>\n",
       "      <th>order_day</th>\n",
       "      <th>adj_close_lag_1</th>\n",
       "      <th>range_hl_lag_1</th>\n",
       "      <th>range_oc_lag_1</th>\n",
       "      <th>...</th>\n",
       "      <th>range_oc_lag_3</th>\n",
       "      <th>volume_lag_3</th>\n",
       "      <th>adj_close_mean</th>\n",
       "      <th>adj_close_std</th>\n",
       "      <th>range_hl_mean</th>\n",
       "      <th>range_hl_std</th>\n",
       "      <th>range_oc_mean</th>\n",
       "      <th>range_oc_std</th>\n",
       "      <th>volume_mean</th>\n",
       "      <th>volume_std</th>\n",
       "    </tr>\n",
       "  </thead>\n",
       "  <tbody>\n",
       "    <tr>\n",
       "      <th>3</th>\n",
       "      <td>2015-12-01</td>\n",
       "      <td>102.167740</td>\n",
       "      <td>2443600</td>\n",
       "      <td>12</td>\n",
       "      <td>0.839996</td>\n",
       "      <td>-0.590004</td>\n",
       "      <td>3</td>\n",
       "      <td>101.213867</td>\n",
       "      <td>0.739997</td>\n",
       "      <td>0.610001</td>\n",
       "      <td>...</td>\n",
       "      <td>0.040001</td>\n",
       "      <td>1820300.0</td>\n",
       "      <td>NaN</td>\n",
       "      <td>NaN</td>\n",
       "      <td>NaN</td>\n",
       "      <td>NaN</td>\n",
       "      <td>NaN</td>\n",
       "      <td>NaN</td>\n",
       "      <td>NaN</td>\n",
       "      <td>NaN</td>\n",
       "    </tr>\n",
       "    <tr>\n",
       "      <th>4</th>\n",
       "      <td>2015-12-02</td>\n",
       "      <td>101.100533</td>\n",
       "      <td>2937200</td>\n",
       "      <td>12</td>\n",
       "      <td>1.390000</td>\n",
       "      <td>1.049995</td>\n",
       "      <td>4</td>\n",
       "      <td>102.167740</td>\n",
       "      <td>0.839996</td>\n",
       "      <td>-0.590004</td>\n",
       "      <td>...</td>\n",
       "      <td>-0.040001</td>\n",
       "      <td>552400.0</td>\n",
       "      <td>102.167740</td>\n",
       "      <td>NaN</td>\n",
       "      <td>0.839996</td>\n",
       "      <td>NaN</td>\n",
       "      <td>-0.590004</td>\n",
       "      <td>NaN</td>\n",
       "      <td>2.443600e+06</td>\n",
       "      <td>NaN</td>\n",
       "    </tr>\n",
       "    <tr>\n",
       "      <th>5</th>\n",
       "      <td>2015-12-03</td>\n",
       "      <td>99.589470</td>\n",
       "      <td>3345600</td>\n",
       "      <td>12</td>\n",
       "      <td>2.420005</td>\n",
       "      <td>1.840004</td>\n",
       "      <td>5</td>\n",
       "      <td>101.100533</td>\n",
       "      <td>1.390000</td>\n",
       "      <td>1.049995</td>\n",
       "      <td>...</td>\n",
       "      <td>0.610001</td>\n",
       "      <td>3618100.0</td>\n",
       "      <td>101.634137</td>\n",
       "      <td>0.754629</td>\n",
       "      <td>1.114998</td>\n",
       "      <td>0.388912</td>\n",
       "      <td>0.229995</td>\n",
       "      <td>1.159654</td>\n",
       "      <td>2.690400e+06</td>\n",
       "      <td>349027.907194</td>\n",
       "    </tr>\n",
       "    <tr>\n",
       "      <th>6</th>\n",
       "      <td>2015-12-04</td>\n",
       "      <td>101.421646</td>\n",
       "      <td>4520000</td>\n",
       "      <td>12</td>\n",
       "      <td>1.919998</td>\n",
       "      <td>-1.580001</td>\n",
       "      <td>6</td>\n",
       "      <td>99.589470</td>\n",
       "      <td>2.420005</td>\n",
       "      <td>1.840004</td>\n",
       "      <td>...</td>\n",
       "      <td>-0.590004</td>\n",
       "      <td>2443600.0</td>\n",
       "      <td>100.952581</td>\n",
       "      <td>1.295487</td>\n",
       "      <td>1.550000</td>\n",
       "      <td>0.802064</td>\n",
       "      <td>0.766665</td>\n",
       "      <td>1.239533</td>\n",
       "      <td>2.908800e+06</td>\n",
       "      <td>451670.145128</td>\n",
       "    </tr>\n",
       "    <tr>\n",
       "      <th>7</th>\n",
       "      <td>2015-12-07</td>\n",
       "      <td>100.628342</td>\n",
       "      <td>3000500</td>\n",
       "      <td>12</td>\n",
       "      <td>1.209999</td>\n",
       "      <td>0.680000</td>\n",
       "      <td>7</td>\n",
       "      <td>101.421646</td>\n",
       "      <td>1.919998</td>\n",
       "      <td>-1.580001</td>\n",
       "      <td>...</td>\n",
       "      <td>1.049995</td>\n",
       "      <td>2937200.0</td>\n",
       "      <td>100.703883</td>\n",
       "      <td>0.978374</td>\n",
       "      <td>1.910001</td>\n",
       "      <td>0.515075</td>\n",
       "      <td>0.436666</td>\n",
       "      <td>1.790597</td>\n",
       "      <td>3.600933e+06</td>\n",
       "      <td>821711.806738</td>\n",
       "    </tr>\n",
       "  </tbody>\n",
       "</table>\n",
       "<p>5 rows × 27 columns</p>\n",
       "</div>"
      ],
      "text/plain": [
       "        date   adj_close   volume  month  range_hl  range_oc  order_day  \\\n",
       "3 2015-12-01  102.167740  2443600     12  0.839996 -0.590004          3   \n",
       "4 2015-12-02  101.100533  2937200     12  1.390000  1.049995          4   \n",
       "5 2015-12-03   99.589470  3345600     12  2.420005  1.840004          5   \n",
       "6 2015-12-04  101.421646  4520000     12  1.919998 -1.580001          6   \n",
       "7 2015-12-07  100.628342  3000500     12  1.209999  0.680000          7   \n",
       "\n",
       "   adj_close_lag_1  range_hl_lag_1  range_oc_lag_1      ...        \\\n",
       "3       101.213867        0.739997        0.610001      ...         \n",
       "4       102.167740        0.839996       -0.590004      ...         \n",
       "5       101.100533        1.390000        1.049995      ...         \n",
       "6        99.589470        2.420005        1.840004      ...         \n",
       "7       101.421646        1.919998       -1.580001      ...         \n",
       "\n",
       "   range_oc_lag_3  volume_lag_3  adj_close_mean  adj_close_std  range_hl_mean  \\\n",
       "3        0.040001     1820300.0             NaN            NaN            NaN   \n",
       "4       -0.040001      552400.0      102.167740            NaN       0.839996   \n",
       "5        0.610001     3618100.0      101.634137       0.754629       1.114998   \n",
       "6       -0.590004     2443600.0      100.952581       1.295487       1.550000   \n",
       "7        1.049995     2937200.0      100.703883       0.978374       1.910001   \n",
       "\n",
       "   range_hl_std  range_oc_mean  range_oc_std   volume_mean     volume_std  \n",
       "3           NaN            NaN           NaN           NaN            NaN  \n",
       "4           NaN      -0.590004           NaN  2.443600e+06            NaN  \n",
       "5      0.388912       0.229995      1.159654  2.690400e+06  349027.907194  \n",
       "6      0.802064       0.766665      1.239533  2.908800e+06  451670.145128  \n",
       "7      0.515075       0.436666      1.790597  3.600933e+06  821711.806738  \n",
       "\n",
       "[5 rows x 27 columns]"
      ]
     },
     "execution_count": 813,
     "metadata": {},
     "output_type": "execute_result"
    }
   ],
   "source": [
    "cols_list = [\n",
    "\"adj_close\",\n",
    "\"range_hl\",\n",
    "\"range_oc\",\n",
    "\"volume\"\n",
    "]\n",
    "\n",
    "for col in cols_list:\n",
    "    df = get_mov_avg_std(df, col, N)\n",
    "df.head()"
   ]
  },
  {
   "cell_type": "markdown",
   "metadata": {},
   "source": [
    "# Split into train, dev and test set"
   ]
  },
  {
   "cell_type": "code",
   "execution_count": 814,
   "metadata": {},
   "outputs": [
    {
     "name": "stdout",
     "output_type": "stream",
     "text": [
      "num_train = 452\n",
      "num_cv = 150\n",
      "num_test = 150\n",
      "train.shape = (452, 27)\n",
      "cv.shape = (150, 27)\n",
      "train_cv.shape = (602, 27)\n",
      "test.shape = (150, 27)\n"
     ]
    }
   ],
   "source": [
    "# Get sizes of each of the datasets\n",
    "num_cv = int(cv_size*len(df))\n",
    "num_test = int(test_size*len(df))\n",
    "num_train = len(df) - num_cv - num_test\n",
    "print(\"num_train = \" + str(num_train))\n",
    "print(\"num_cv = \" + str(num_cv))\n",
    "print(\"num_test = \" + str(num_test))\n",
    "\n",
    "# Split into train, cv, and test\n",
    "train = df[:num_train]\n",
    "cv = df[num_train:num_train+num_cv]\n",
    "train_cv = df[:num_train+num_cv]\n",
    "test = df[num_train+num_cv:]\n",
    "print(\"train.shape = \" + str(train.shape))\n",
    "print(\"cv.shape = \" + str(cv.shape))\n",
    "print(\"train_cv.shape = \" + str(train_cv.shape))\n",
    "print(\"test.shape = \" + str(test.shape))"
   ]
  },
  {
   "cell_type": "markdown",
   "metadata": {},
   "source": [
    "# Scale the train, dev and test set"
   ]
  },
  {
   "cell_type": "code",
   "execution_count": 815,
   "metadata": {},
   "outputs": [
    {
     "name": "stdout",
     "output_type": "stream",
     "text": [
      "scaler.mean_ = [ 1.09216157e+02  1.09161825e+02  8.95464458e-01 -1.06416173e-02\n",
      "  2.59660199e+06  1.09108974e+02  8.95752095e-01 -1.04424934e-02\n",
      "  2.59452058e+06  1.09055702e+02  8.96017571e-01 -9.97789381e-03\n",
      "  2.59480332e+06]\n",
      "scaler.var_ = [9.62205445e+01 9.57528795e+01 2.34721148e-01 3.56409383e-01\n",
      " 1.88232355e+12 9.52817386e+01 2.34479180e-01 3.56379729e-01\n",
      " 1.88887069e+12 9.48071585e+01 2.34189345e-01 3.56328819e-01\n",
      " 1.88839666e+12]\n",
      "train_scaled.shape = (452, 13)\n",
      "train_scaled.shape = (452, 15)\n"
     ]
    },
    {
     "data": {
      "text/html": [
       "<div>\n",
       "<style scoped>\n",
       "    .dataframe tbody tr th:only-of-type {\n",
       "        vertical-align: middle;\n",
       "    }\n",
       "\n",
       "    .dataframe tbody tr th {\n",
       "        vertical-align: top;\n",
       "    }\n",
       "\n",
       "    .dataframe thead th {\n",
       "        text-align: right;\n",
       "    }\n",
       "</style>\n",
       "<table border=\"1\" class=\"dataframe\">\n",
       "  <thead>\n",
       "    <tr style=\"text-align: right;\">\n",
       "      <th></th>\n",
       "      <th>adj_close</th>\n",
       "      <th>adj_close_lag_1</th>\n",
       "      <th>range_hl_lag_1</th>\n",
       "      <th>range_oc_lag_1</th>\n",
       "      <th>volume_lag_1</th>\n",
       "      <th>adj_close_lag_2</th>\n",
       "      <th>range_hl_lag_2</th>\n",
       "      <th>range_oc_lag_2</th>\n",
       "      <th>volume_lag_2</th>\n",
       "      <th>adj_close_lag_3</th>\n",
       "      <th>range_hl_lag_3</th>\n",
       "      <th>range_oc_lag_3</th>\n",
       "      <th>volume_lag_3</th>\n",
       "      <th>date</th>\n",
       "      <th>month</th>\n",
       "    </tr>\n",
       "  </thead>\n",
       "  <tbody>\n",
       "    <tr>\n",
       "      <th>0</th>\n",
       "      <td>-0.718551</td>\n",
       "      <td>-0.812231</td>\n",
       "      <td>-0.320895</td>\n",
       "      <td>1.039602</td>\n",
       "      <td>0.744544</td>\n",
       "      <td>-0.764317</td>\n",
       "      <td>-0.734673</td>\n",
       "      <td>-0.049514</td>\n",
       "      <td>-1.485868</td>\n",
       "      <td>-0.776274</td>\n",
       "      <td>-1.004303</td>\n",
       "      <td>0.083726</td>\n",
       "      <td>-0.563607</td>\n",
       "      <td>2015-12-01</td>\n",
       "      <td>12</td>\n",
       "    </tr>\n",
       "    <tr>\n",
       "      <th>1</th>\n",
       "      <td>-0.827348</td>\n",
       "      <td>-0.714751</td>\n",
       "      <td>-0.114491</td>\n",
       "      <td>-0.970456</td>\n",
       "      <td>-0.111519</td>\n",
       "      <td>-0.808822</td>\n",
       "      <td>-0.321655</td>\n",
       "      <td>1.039312</td>\n",
       "      <td>0.744767</td>\n",
       "      <td>-0.760756</td>\n",
       "      <td>-0.735676</td>\n",
       "      <td>-0.050296</td>\n",
       "      <td>-1.486260</td>\n",
       "      <td>2015-12-02</td>\n",
       "      <td>12</td>\n",
       "    </tr>\n",
       "    <tr>\n",
       "      <th>2</th>\n",
       "      <td>-0.981393</td>\n",
       "      <td>-0.823813</td>\n",
       "      <td>1.020755</td>\n",
       "      <td>1.776610</td>\n",
       "      <td>0.248253</td>\n",
       "      <td>-0.711102</td>\n",
       "      <td>-0.115144</td>\n",
       "      <td>-0.970830</td>\n",
       "      <td>-0.109811</td>\n",
       "      <td>-0.805373</td>\n",
       "      <td>-0.322402</td>\n",
       "      <td>1.038607</td>\n",
       "      <td>0.744655</td>\n",
       "      <td>2015-12-03</td>\n",
       "      <td>12</td>\n",
       "    </tr>\n",
       "    <tr>\n",
       "      <th>3</th>\n",
       "      <td>-0.794612</td>\n",
       "      <td>-0.978234</td>\n",
       "      <td>3.146755</td>\n",
       "      <td>3.099907</td>\n",
       "      <td>0.545926</td>\n",
       "      <td>-0.820433</td>\n",
       "      <td>1.020687</td>\n",
       "      <td>1.776350</td>\n",
       "      <td>0.249337</td>\n",
       "      <td>-0.707408</td>\n",
       "      <td>-0.115764</td>\n",
       "      <td>-0.971677</td>\n",
       "      <td>-0.110031</td>\n",
       "      <td>2015-12-04</td>\n",
       "      <td>12</td>\n",
       "    </tr>\n",
       "    <tr>\n",
       "      <th>4</th>\n",
       "      <td>-0.875485</td>\n",
       "      <td>-0.790997</td>\n",
       "      <td>2.114706</td>\n",
       "      <td>-2.628741</td>\n",
       "      <td>1.401916</td>\n",
       "      <td>-0.975235</td>\n",
       "      <td>3.147784</td>\n",
       "      <td>3.099703</td>\n",
       "      <td>0.546493</td>\n",
       "      <td>-0.817013</td>\n",
       "      <td>1.020770</td>\n",
       "      <td>1.775699</td>\n",
       "      <td>0.249163</td>\n",
       "      <td>2015-12-07</td>\n",
       "      <td>12</td>\n",
       "    </tr>\n",
       "  </tbody>\n",
       "</table>\n",
       "</div>"
      ],
      "text/plain": [
       "   adj_close  adj_close_lag_1  range_hl_lag_1  range_oc_lag_1  volume_lag_1  \\\n",
       "0  -0.718551        -0.812231       -0.320895        1.039602      0.744544   \n",
       "1  -0.827348        -0.714751       -0.114491       -0.970456     -0.111519   \n",
       "2  -0.981393        -0.823813        1.020755        1.776610      0.248253   \n",
       "3  -0.794612        -0.978234        3.146755        3.099907      0.545926   \n",
       "4  -0.875485        -0.790997        2.114706       -2.628741      1.401916   \n",
       "\n",
       "   adj_close_lag_2  range_hl_lag_2  range_oc_lag_2  volume_lag_2  \\\n",
       "0        -0.764317       -0.734673       -0.049514     -1.485868   \n",
       "1        -0.808822       -0.321655        1.039312      0.744767   \n",
       "2        -0.711102       -0.115144       -0.970830     -0.109811   \n",
       "3        -0.820433        1.020687        1.776350      0.249337   \n",
       "4        -0.975235        3.147784        3.099703      0.546493   \n",
       "\n",
       "   adj_close_lag_3  range_hl_lag_3  range_oc_lag_3  volume_lag_3       date  \\\n",
       "0        -0.776274       -1.004303        0.083726     -0.563607 2015-12-01   \n",
       "1        -0.760756       -0.735676       -0.050296     -1.486260 2015-12-02   \n",
       "2        -0.805373       -0.322402        1.038607      0.744655 2015-12-03   \n",
       "3        -0.707408       -0.115764       -0.971677     -0.110031 2015-12-04   \n",
       "4        -0.817013        1.020770        1.775699      0.249163 2015-12-07   \n",
       "\n",
       "   month  \n",
       "0     12  \n",
       "1     12  \n",
       "2     12  \n",
       "3     12  \n",
       "4     12  "
      ]
     },
     "execution_count": 815,
     "metadata": {},
     "output_type": "execute_result"
    }
   ],
   "source": [
    "cols_to_scale = [\n",
    "\"adj_close\"\n",
    "]\n",
    "\n",
    "for i in range(1,N+1):\n",
    "    cols_to_scale.append(\"adj_close_lag_\"+str(i))\n",
    "    cols_to_scale.append(\"range_hl_lag_\"+str(i))\n",
    "    cols_to_scale.append(\"range_oc_lag_\"+str(i))\n",
    "    cols_to_scale.append(\"volume_lag_\"+str(i))\n",
    "\n",
    "# Do scaling for train set\n",
    "# Here we only scale the train dataset, and not the entire dataset to prevent information leak\n",
    "scaler = StandardScaler()\n",
    "train_scaled = scaler.fit_transform(train[cols_to_scale])\n",
    "print(\"scaler.mean_ = \" + str(scaler.mean_))\n",
    "print(\"scaler.var_ = \" + str(scaler.var_))\n",
    "print(\"train_scaled.shape = \" + str(train_scaled.shape))\n",
    "\n",
    "# Convert the numpy array back into pandas dataframe\n",
    "train_scaled = pd.DataFrame(train_scaled, columns=cols_to_scale)\n",
    "train_scaled[['date', 'month']] = train.reset_index()[['date', 'month']]\n",
    "print(\"train_scaled.shape = \" + str(train_scaled.shape))\n",
    "train_scaled.head()"
   ]
  },
  {
   "cell_type": "code",
   "execution_count": 816,
   "metadata": {},
   "outputs": [
    {
     "name": "stdout",
     "output_type": "stream",
     "text": [
      "scaler_train_cv.mean_ = [ 1.15486976e+02  1.15428826e+02  9.91013191e-01  2.24245681e-03\n",
      "  2.63619003e+06  1.15371317e+02  9.89185952e-01  4.15215947e-04\n",
      "  2.63433422e+06  1.15311745e+02  9.87940130e-01 -1.49549834e-04\n",
      "  2.63070698e+06]\n",
      "scaler_train_cv.var_ = [1.96174107e+02 1.95795111e+02 5.21933578e-01 5.88620085e-01\n",
      " 2.00858454e+12 1.95385796e+02 5.21568494e-01 5.86761161e-01\n",
      " 2.01424204e+12 1.94898890e+02 5.22075709e-01 5.86524115e-01\n",
      " 2.01221383e+12]\n",
      "train_cv_scaled.shape = (602, 13)\n",
      "train_cv_scaled.shape = (602, 15)\n"
     ]
    },
    {
     "data": {
      "text/html": [
       "<div>\n",
       "<style scoped>\n",
       "    .dataframe tbody tr th:only-of-type {\n",
       "        vertical-align: middle;\n",
       "    }\n",
       "\n",
       "    .dataframe tbody tr th {\n",
       "        vertical-align: top;\n",
       "    }\n",
       "\n",
       "    .dataframe thead th {\n",
       "        text-align: right;\n",
       "    }\n",
       "</style>\n",
       "<table border=\"1\" class=\"dataframe\">\n",
       "  <thead>\n",
       "    <tr style=\"text-align: right;\">\n",
       "      <th></th>\n",
       "      <th>adj_close</th>\n",
       "      <th>adj_close_lag_1</th>\n",
       "      <th>range_hl_lag_1</th>\n",
       "      <th>range_oc_lag_1</th>\n",
       "      <th>volume_lag_1</th>\n",
       "      <th>adj_close_lag_2</th>\n",
       "      <th>range_hl_lag_2</th>\n",
       "      <th>range_oc_lag_2</th>\n",
       "      <th>volume_lag_2</th>\n",
       "      <th>adj_close_lag_3</th>\n",
       "      <th>range_hl_lag_3</th>\n",
       "      <th>range_oc_lag_3</th>\n",
       "      <th>volume_lag_3</th>\n",
       "      <th>date</th>\n",
       "      <th>month</th>\n",
       "    </tr>\n",
       "  </thead>\n",
       "  <tbody>\n",
       "    <tr>\n",
       "      <th>0</th>\n",
       "      <td>-0.950952</td>\n",
       "      <td>-1.015885</td>\n",
       "      <td>-0.347451</td>\n",
       "      <td>0.792161</td>\n",
       "      <td>0.692830</td>\n",
       "      <td>-0.981755</td>\n",
       "      <td>-0.621970</td>\n",
       "      <td>-0.052762</td>\n",
       "      <td>-1.466936</td>\n",
       "      <td>-0.989537</td>\n",
       "      <td>-0.799858</td>\n",
       "      <td>0.052426</td>\n",
       "      <td>-0.571302</td>\n",
       "      <td>2015-12-01</td>\n",
       "      <td>12</td>\n",
       "    </tr>\n",
       "    <tr>\n",
       "      <th>1</th>\n",
       "      <td>-1.027147</td>\n",
       "      <td>-0.947716</td>\n",
       "      <td>-0.209035</td>\n",
       "      <td>-0.771942</td>\n",
       "      <td>-0.135890</td>\n",
       "      <td>-1.012835</td>\n",
       "      <td>-0.345043</td>\n",
       "      <td>0.795800</td>\n",
       "      <td>0.693164</td>\n",
       "      <td>-0.978713</td>\n",
       "      <td>-0.619944</td>\n",
       "      <td>-0.052036</td>\n",
       "      <td>-1.465118</td>\n",
       "      <td>2015-12-02</td>\n",
       "      <td>12</td>\n",
       "    </tr>\n",
       "    <tr>\n",
       "      <th>2</th>\n",
       "      <td>-1.135032</td>\n",
       "      <td>-1.023985</td>\n",
       "      <td>0.552269</td>\n",
       "      <td>1.365656</td>\n",
       "      <td>0.212391</td>\n",
       "      <td>-0.944594</td>\n",
       "      <td>-0.206578</td>\n",
       "      <td>-0.770779</td>\n",
       "      <td>-0.134392</td>\n",
       "      <td>-1.009832</td>\n",
       "      <td>-0.343151</td>\n",
       "      <td>0.796699</td>\n",
       "      <td>0.696070</td>\n",
       "      <td>2015-12-03</td>\n",
       "      <td>12</td>\n",
       "    </tr>\n",
       "    <tr>\n",
       "      <th>3</th>\n",
       "      <td>-1.004220</td>\n",
       "      <td>-1.131974</td>\n",
       "      <td>1.977981</td>\n",
       "      <td>2.395365</td>\n",
       "      <td>0.500555</td>\n",
       "      <td>-1.020943</td>\n",
       "      <td>0.554993</td>\n",
       "      <td>1.370203</td>\n",
       "      <td>0.213400</td>\n",
       "      <td>-0.941506</td>\n",
       "      <td>-0.204753</td>\n",
       "      <td>-0.770197</td>\n",
       "      <td>-0.131902</td>\n",
       "      <td>2015-12-04</td>\n",
       "      <td>12</td>\n",
       "    </tr>\n",
       "    <tr>\n",
       "      <th>4</th>\n",
       "      <td>-1.060860</td>\n",
       "      <td>-1.001036</td>\n",
       "      <td>1.285882</td>\n",
       "      <td>-2.062319</td>\n",
       "      <td>1.329205</td>\n",
       "      <td>-1.129045</td>\n",
       "      <td>1.981203</td>\n",
       "      <td>2.401541</td>\n",
       "      <td>0.501160</td>\n",
       "      <td>-1.017950</td>\n",
       "      <td>0.556447</td>\n",
       "      <td>1.371217</td>\n",
       "      <td>0.216065</td>\n",
       "      <td>2015-12-07</td>\n",
       "      <td>12</td>\n",
       "    </tr>\n",
       "  </tbody>\n",
       "</table>\n",
       "</div>"
      ],
      "text/plain": [
       "   adj_close  adj_close_lag_1  range_hl_lag_1  range_oc_lag_1  volume_lag_1  \\\n",
       "0  -0.950952        -1.015885       -0.347451        0.792161      0.692830   \n",
       "1  -1.027147        -0.947716       -0.209035       -0.771942     -0.135890   \n",
       "2  -1.135032        -1.023985        0.552269        1.365656      0.212391   \n",
       "3  -1.004220        -1.131974        1.977981        2.395365      0.500555   \n",
       "4  -1.060860        -1.001036        1.285882       -2.062319      1.329205   \n",
       "\n",
       "   adj_close_lag_2  range_hl_lag_2  range_oc_lag_2  volume_lag_2  \\\n",
       "0        -0.981755       -0.621970       -0.052762     -1.466936   \n",
       "1        -1.012835       -0.345043        0.795800      0.693164   \n",
       "2        -0.944594       -0.206578       -0.770779     -0.134392   \n",
       "3        -1.020943        0.554993        1.370203      0.213400   \n",
       "4        -1.129045        1.981203        2.401541      0.501160   \n",
       "\n",
       "   adj_close_lag_3  range_hl_lag_3  range_oc_lag_3  volume_lag_3       date  \\\n",
       "0        -0.989537       -0.799858        0.052426     -0.571302 2015-12-01   \n",
       "1        -0.978713       -0.619944       -0.052036     -1.465118 2015-12-02   \n",
       "2        -1.009832       -0.343151        0.796699      0.696070 2015-12-03   \n",
       "3        -0.941506       -0.204753       -0.770197     -0.131902 2015-12-04   \n",
       "4        -1.017950        0.556447        1.371217      0.216065 2015-12-07   \n",
       "\n",
       "   month  \n",
       "0     12  \n",
       "1     12  \n",
       "2     12  \n",
       "3     12  \n",
       "4     12  "
      ]
     },
     "execution_count": 816,
     "metadata": {},
     "output_type": "execute_result"
    }
   ],
   "source": [
    "# Do scaling for train+dev set\n",
    "scaler_train_cv = StandardScaler()\n",
    "train_cv_scaled = scaler_train_cv.fit_transform(train_cv[cols_to_scale])\n",
    "print(\"scaler_train_cv.mean_ = \" + str(scaler_train_cv.mean_))\n",
    "print(\"scaler_train_cv.var_ = \" + str(scaler_train_cv.var_))\n",
    "print(\"train_cv_scaled.shape = \" + str(train_cv_scaled.shape))\n",
    "\n",
    "# Convert the numpy array back into pandas dataframe\n",
    "train_cv_scaled = pd.DataFrame(train_cv_scaled, columns=cols_to_scale)\n",
    "train_cv_scaled[['date', 'month']] = train_cv.reset_index()[['date', 'month']]\n",
    "print(\"train_cv_scaled.shape = \" + str(train_cv_scaled.shape))\n",
    "train_cv_scaled.head()"
   ]
  },
  {
   "cell_type": "code",
   "execution_count": 817,
   "metadata": {
    "scrolled": true
   },
   "outputs": [
    {
     "data": {
      "application/vnd.jupyter.widget-view+json": {
       "model_id": "06bdc8340d934bb0bd411208be9b8faf",
       "version_major": 2,
       "version_minor": 0
      },
      "text/plain": [
       "A Jupyter Widget"
      ]
     },
     "metadata": {},
     "output_type": "display_data"
    },
    {
     "name": "stdout",
     "output_type": "stream",
     "text": [
      "\n"
     ]
    },
    {
     "data": {
      "text/html": [
       "<div>\n",
       "<style scoped>\n",
       "    .dataframe tbody tr th:only-of-type {\n",
       "        vertical-align: middle;\n",
       "    }\n",
       "\n",
       "    .dataframe tbody tr th {\n",
       "        vertical-align: top;\n",
       "    }\n",
       "\n",
       "    .dataframe thead th {\n",
       "        text-align: right;\n",
       "    }\n",
       "</style>\n",
       "<table border=\"1\" class=\"dataframe\">\n",
       "  <thead>\n",
       "    <tr style=\"text-align: right;\">\n",
       "      <th></th>\n",
       "      <th>date</th>\n",
       "      <th>adj_close_lag_1</th>\n",
       "      <th>adj_close_lag_2</th>\n",
       "      <th>adj_close_lag_3</th>\n",
       "      <th>range_hl_lag_1</th>\n",
       "      <th>range_hl_lag_2</th>\n",
       "      <th>range_hl_lag_3</th>\n",
       "      <th>range_oc_lag_1</th>\n",
       "      <th>range_oc_lag_2</th>\n",
       "      <th>range_oc_lag_3</th>\n",
       "      <th>volume_lag_1</th>\n",
       "      <th>volume_lag_2</th>\n",
       "      <th>volume_lag_3</th>\n",
       "    </tr>\n",
       "  </thead>\n",
       "  <tbody>\n",
       "    <tr>\n",
       "      <th>455</th>\n",
       "      <td>2017-09-18</td>\n",
       "      <td>1.140652</td>\n",
       "      <td>-0.725842</td>\n",
       "      <td>-0.414810</td>\n",
       "      <td>0.645154</td>\n",
       "      <td>0.506780</td>\n",
       "      <td>-1.151934</td>\n",
       "      <td>-1.120911</td>\n",
       "      <td>0.800598</td>\n",
       "      <td>0.320314</td>\n",
       "      <td>-0.387851</td>\n",
       "      <td>-0.747976</td>\n",
       "      <td>1.135827</td>\n",
       "    </tr>\n",
       "    <tr>\n",
       "      <th>456</th>\n",
       "      <td>2017-09-19</td>\n",
       "      <td>1.039608</td>\n",
       "      <td>-0.084589</td>\n",
       "      <td>-0.955019</td>\n",
       "      <td>-0.576051</td>\n",
       "      <td>1.154700</td>\n",
       "      <td>-0.578649</td>\n",
       "      <td>0.848204</td>\n",
       "      <td>-1.102639</td>\n",
       "      <td>0.254435</td>\n",
       "      <td>1.146768</td>\n",
       "      <td>-0.456373</td>\n",
       "      <td>-0.690395</td>\n",
       "    </tr>\n",
       "    <tr>\n",
       "      <th>457</th>\n",
       "      <td>2017-09-20</td>\n",
       "      <td>0.721829</td>\n",
       "      <td>0.419612</td>\n",
       "      <td>-1.141441</td>\n",
       "      <td>-1.153115</td>\n",
       "      <td>0.524175</td>\n",
       "      <td>0.628940</td>\n",
       "      <td>0.923017</td>\n",
       "      <td>0.139349</td>\n",
       "      <td>-1.062366</td>\n",
       "      <td>-1.016857</td>\n",
       "      <td>0.982244</td>\n",
       "      <td>0.034613</td>\n",
       "    </tr>\n",
       "    <tr>\n",
       "      <th>458</th>\n",
       "      <td>2017-09-21</td>\n",
       "      <td>1.128541</td>\n",
       "      <td>-0.352617</td>\n",
       "      <td>-0.775924</td>\n",
       "      <td>1.034904</td>\n",
       "      <td>-0.960995</td>\n",
       "      <td>-0.073909</td>\n",
       "      <td>-0.681573</td>\n",
       "      <td>1.148000</td>\n",
       "      <td>-0.466427</td>\n",
       "      <td>0.469474</td>\n",
       "      <td>-1.148354</td>\n",
       "      <td>0.678879</td>\n",
       "    </tr>\n",
       "    <tr>\n",
       "      <th>459</th>\n",
       "      <td>2017-09-22</td>\n",
       "      <td>-0.940121</td>\n",
       "      <td>1.050689</td>\n",
       "      <td>-0.110569</td>\n",
       "      <td>-0.073909</td>\n",
       "      <td>1.034904</td>\n",
       "      <td>-0.960995</td>\n",
       "      <td>1.033189</td>\n",
       "      <td>-0.963126</td>\n",
       "      <td>-0.070063</td>\n",
       "      <td>0.579832</td>\n",
       "      <td>0.574865</td>\n",
       "      <td>-1.154697</td>\n",
       "    </tr>\n",
       "  </tbody>\n",
       "</table>\n",
       "</div>"
      ],
      "text/plain": [
       "          date  adj_close_lag_1  adj_close_lag_2  adj_close_lag_3  \\\n",
       "455 2017-09-18         1.140652        -0.725842        -0.414810   \n",
       "456 2017-09-19         1.039608        -0.084589        -0.955019   \n",
       "457 2017-09-20         0.721829         0.419612        -1.141441   \n",
       "458 2017-09-21         1.128541        -0.352617        -0.775924   \n",
       "459 2017-09-22        -0.940121         1.050689        -0.110569   \n",
       "\n",
       "     range_hl_lag_1  range_hl_lag_2  range_hl_lag_3  range_oc_lag_1  \\\n",
       "455        0.645154        0.506780       -1.151934       -1.120911   \n",
       "456       -0.576051        1.154700       -0.578649        0.848204   \n",
       "457       -1.153115        0.524175        0.628940        0.923017   \n",
       "458        1.034904       -0.960995       -0.073909       -0.681573   \n",
       "459       -0.073909        1.034904       -0.960995        1.033189   \n",
       "\n",
       "     range_oc_lag_2  range_oc_lag_3  volume_lag_1  volume_lag_2  volume_lag_3  \n",
       "455        0.800598        0.320314     -0.387851     -0.747976      1.135827  \n",
       "456       -1.102639        0.254435      1.146768     -0.456373     -0.690395  \n",
       "457        0.139349       -1.062366     -1.016857      0.982244      0.034613  \n",
       "458        1.148000       -0.466427      0.469474     -1.148354      0.678879  \n",
       "459       -0.963126       -0.070063      0.579832      0.574865     -1.154697  "
      ]
     },
     "execution_count": 817,
     "metadata": {},
     "output_type": "execute_result"
    }
   ],
   "source": [
    "# Do scaling for dev set\n",
    "cv_scaled = cv[['date']]\n",
    "for col in tqdm_notebook(cols_list):\n",
    "    feat_list = [col + '_lag_' + str(shift) for shift in range(1, N+1)]\n",
    "    temp = cv.apply(lambda row: scale_row(row[feat_list], row[col+'_mean'], row[col+'_std']), axis=1)\n",
    "    cv_scaled = pd.concat([cv_scaled, temp], axis=1)\n",
    "    \n",
    "# Now the entire dev set is scaled\n",
    "cv_scaled.head()"
   ]
  },
  {
   "cell_type": "code",
   "execution_count": 818,
   "metadata": {},
   "outputs": [
    {
     "data": {
      "application/vnd.jupyter.widget-view+json": {
       "model_id": "ab367e0aaa104baf866864e59c2c5114",
       "version_major": 2,
       "version_minor": 0
      },
      "text/plain": [
       "A Jupyter Widget"
      ]
     },
     "metadata": {},
     "output_type": "display_data"
    },
    {
     "name": "stdout",
     "output_type": "stream",
     "text": [
      "\n"
     ]
    },
    {
     "data": {
      "text/html": [
       "<div>\n",
       "<style scoped>\n",
       "    .dataframe tbody tr th:only-of-type {\n",
       "        vertical-align: middle;\n",
       "    }\n",
       "\n",
       "    .dataframe tbody tr th {\n",
       "        vertical-align: top;\n",
       "    }\n",
       "\n",
       "    .dataframe thead th {\n",
       "        text-align: right;\n",
       "    }\n",
       "</style>\n",
       "<table border=\"1\" class=\"dataframe\">\n",
       "  <thead>\n",
       "    <tr style=\"text-align: right;\">\n",
       "      <th></th>\n",
       "      <th>date</th>\n",
       "      <th>adj_close_lag_1</th>\n",
       "      <th>adj_close_lag_2</th>\n",
       "      <th>adj_close_lag_3</th>\n",
       "      <th>range_hl_lag_1</th>\n",
       "      <th>range_hl_lag_2</th>\n",
       "      <th>range_hl_lag_3</th>\n",
       "      <th>range_oc_lag_1</th>\n",
       "      <th>range_oc_lag_2</th>\n",
       "      <th>range_oc_lag_3</th>\n",
       "      <th>volume_lag_1</th>\n",
       "      <th>volume_lag_2</th>\n",
       "      <th>volume_lag_3</th>\n",
       "    </tr>\n",
       "  </thead>\n",
       "  <tbody>\n",
       "    <tr>\n",
       "      <th>605</th>\n",
       "      <td>2018-04-24</td>\n",
       "      <td>-0.615379</td>\n",
       "      <td>-0.538467</td>\n",
       "      <td>1.153846</td>\n",
       "      <td>-0.137860</td>\n",
       "      <td>1.061777</td>\n",
       "      <td>-0.923918</td>\n",
       "      <td>-0.637555</td>\n",
       "      <td>1.152530</td>\n",
       "      <td>-0.514975</td>\n",
       "      <td>-0.426292</td>\n",
       "      <td>-0.716212</td>\n",
       "      <td>1.142504</td>\n",
       "    </tr>\n",
       "    <tr>\n",
       "      <th>606</th>\n",
       "      <td>2018-04-25</td>\n",
       "      <td>-1.154315</td>\n",
       "      <td>0.551318</td>\n",
       "      <td>0.602997</td>\n",
       "      <td>1.144036</td>\n",
       "      <td>-0.707616</td>\n",
       "      <td>-0.436420</td>\n",
       "      <td>1.074361</td>\n",
       "      <td>-0.903665</td>\n",
       "      <td>-0.170696</td>\n",
       "      <td>1.116900</td>\n",
       "      <td>-0.304677</td>\n",
       "      <td>-0.812223</td>\n",
       "    </tr>\n",
       "    <tr>\n",
       "      <th>607</th>\n",
       "      <td>2018-04-26</td>\n",
       "      <td>-0.493192</td>\n",
       "      <td>-0.657600</td>\n",
       "      <td>1.150792</td>\n",
       "      <td>-0.436420</td>\n",
       "      <td>1.144036</td>\n",
       "      <td>-0.707616</td>\n",
       "      <td>-0.761005</td>\n",
       "      <td>1.132602</td>\n",
       "      <td>-0.371597</td>\n",
       "      <td>-0.335527</td>\n",
       "      <td>1.124616</td>\n",
       "      <td>-0.789089</td>\n",
       "    </tr>\n",
       "    <tr>\n",
       "      <th>608</th>\n",
       "      <td>2018-04-27</td>\n",
       "      <td>1.149506</td>\n",
       "      <td>-0.480009</td>\n",
       "      <td>-0.669498</td>\n",
       "      <td>-0.675214</td>\n",
       "      <td>-0.473605</td>\n",
       "      <td>1.148819</td>\n",
       "      <td>-0.736830</td>\n",
       "      <td>-0.401527</td>\n",
       "      <td>1.138357</td>\n",
       "      <td>-1.037584</td>\n",
       "      <td>0.079970</td>\n",
       "      <td>0.957614</td>\n",
       "    </tr>\n",
       "    <tr>\n",
       "      <th>609</th>\n",
       "      <td>2018-04-30</td>\n",
       "      <td>0.634649</td>\n",
       "      <td>0.518089</td>\n",
       "      <td>-1.152738</td>\n",
       "      <td>-1.104265</td>\n",
       "      <td>0.259816</td>\n",
       "      <td>0.844449</td>\n",
       "      <td>0.942150</td>\n",
       "      <td>-1.049232</td>\n",
       "      <td>0.107082</td>\n",
       "      <td>-0.694784</td>\n",
       "      <td>-0.451330</td>\n",
       "      <td>1.146114</td>\n",
       "    </tr>\n",
       "  </tbody>\n",
       "</table>\n",
       "</div>"
      ],
      "text/plain": [
       "          date  adj_close_lag_1  adj_close_lag_2  adj_close_lag_3  \\\n",
       "605 2018-04-24        -0.615379        -0.538467         1.153846   \n",
       "606 2018-04-25        -1.154315         0.551318         0.602997   \n",
       "607 2018-04-26        -0.493192        -0.657600         1.150792   \n",
       "608 2018-04-27         1.149506        -0.480009        -0.669498   \n",
       "609 2018-04-30         0.634649         0.518089        -1.152738   \n",
       "\n",
       "     range_hl_lag_1  range_hl_lag_2  range_hl_lag_3  range_oc_lag_1  \\\n",
       "605       -0.137860        1.061777       -0.923918       -0.637555   \n",
       "606        1.144036       -0.707616       -0.436420        1.074361   \n",
       "607       -0.436420        1.144036       -0.707616       -0.761005   \n",
       "608       -0.675214       -0.473605        1.148819       -0.736830   \n",
       "609       -1.104265        0.259816        0.844449        0.942150   \n",
       "\n",
       "     range_oc_lag_2  range_oc_lag_3  volume_lag_1  volume_lag_2  volume_lag_3  \n",
       "605        1.152530       -0.514975     -0.426292     -0.716212      1.142504  \n",
       "606       -0.903665       -0.170696      1.116900     -0.304677     -0.812223  \n",
       "607        1.132602       -0.371597     -0.335527      1.124616     -0.789089  \n",
       "608       -0.401527        1.138357     -1.037584      0.079970      0.957614  \n",
       "609       -1.049232        0.107082     -0.694784     -0.451330      1.146114  "
      ]
     },
     "execution_count": 818,
     "metadata": {},
     "output_type": "execute_result"
    }
   ],
   "source": [
    "# Do scaling for test set\n",
    "test_scaled = test[['date']]\n",
    "for col in tqdm_notebook(cols_list):\n",
    "    feat_list = [col + '_lag_' + str(shift) for shift in range(1, N+1)]\n",
    "    temp = test.apply(lambda row: scale_row(row[feat_list], row[col+'_mean'], row[col+'_std']), axis=1)\n",
    "    test_scaled = pd.concat([test_scaled, temp], axis=1)\n",
    "    \n",
    "# Now the entire test set is scaled\n",
    "test_scaled.head()"
   ]
  },
  {
   "cell_type": "markdown",
   "metadata": {},
   "source": [
    "# Split into X and y"
   ]
  },
  {
   "cell_type": "code",
   "execution_count": 819,
   "metadata": {},
   "outputs": [
    {
     "name": "stdout",
     "output_type": "stream",
     "text": [
      "X_train.shape = (452, 12)\n",
      "y_train.shape = (452,)\n",
      "X_cv.shape = (150, 12)\n",
      "y_cv.shape = (150,)\n",
      "X_train_cv.shape = (602, 12)\n",
      "y_train_cv.shape = (602,)\n",
      "X_sample.shape = (150, 12)\n",
      "y_sample.shape = (150,)\n"
     ]
    }
   ],
   "source": [
    "features = []\n",
    "for i in range(1,N+1):\n",
    "    features.append(\"adj_close_lag_\"+str(i))\n",
    "    features.append(\"range_hl_lag_\"+str(i))\n",
    "    features.append(\"range_oc_lag_\"+str(i))\n",
    "    features.append(\"volume_lag_\"+str(i))\n",
    "\n",
    "target = \"adj_close\"\n",
    "\n",
    "\n",
    "# Split into X and y\n",
    "X_train = train[features]\n",
    "y_train = train[target]\n",
    "X_cv = cv[features]\n",
    "y_cv = cv[target]\n",
    "X_train_cv = train_cv[features]\n",
    "y_train_cv = train_cv[target]\n",
    "X_sample = test[features]\n",
    "y_sample = test[target]\n",
    "print(\"X_train.shape = \" + str(X_train.shape))\n",
    "print(\"y_train.shape = \" + str(y_train.shape))\n",
    "print(\"X_cv.shape = \" + str(X_cv.shape))\n",
    "print(\"y_cv.shape = \" + str(y_cv.shape))\n",
    "print(\"X_train_cv.shape = \" + str(X_train_cv.shape))\n",
    "print(\"y_train_cv.shape = \" + str(y_train_cv.shape))\n",
    "print(\"X_sample.shape = \" + str(X_sample.shape))\n",
    "print(\"y_sample.shape = \" + str(y_sample.shape))"
   ]
  },
  {
   "cell_type": "code",
   "execution_count": 820,
   "metadata": {},
   "outputs": [
    {
     "name": "stdout",
     "output_type": "stream",
     "text": [
      "X_train_scaled.shape = (452, 12)\n",
      "y_train_scaled.shape = (452,)\n",
      "X_cv_scaled.shape = (150, 12)\n",
      "X_train_cv_scaled.shape = (602, 12)\n",
      "y_train_cv_scaled.shape = (602,)\n",
      "X_sample_scaled.shape = (150, 12)\n"
     ]
    }
   ],
   "source": [
    "# Split into X and y\n",
    "X_train_scaled = train_scaled[features]\n",
    "y_train_scaled = train_scaled[target]\n",
    "X_cv_scaled = cv_scaled[features]\n",
    "X_train_cv_scaled = train_cv_scaled[features]\n",
    "y_train_cv_scaled = train_cv_scaled[target]\n",
    "X_sample_scaled = test_scaled[features]\n",
    "print(\"X_train_scaled.shape = \" + str(X_train_scaled.shape))\n",
    "print(\"y_train_scaled.shape = \" + str(y_train_scaled.shape))\n",
    "print(\"X_cv_scaled.shape = \" + str(X_cv_scaled.shape))\n",
    "print(\"X_train_cv_scaled.shape = \" + str(X_train_cv_scaled.shape))\n",
    "print(\"y_train_cv_scaled.shape = \" + str(y_train_cv_scaled.shape))\n",
    "print(\"X_sample_scaled.shape = \" + str(X_sample_scaled.shape))"
   ]
  },
  {
   "cell_type": "markdown",
   "metadata": {},
   "source": [
    "# EDA"
   ]
  },
  {
   "cell_type": "code",
   "execution_count": 821,
   "metadata": {},
   "outputs": [
    {
     "data": {
      "text/plain": [
       "<matplotlib.text.Text at 0x1a3246e6a0>"
      ]
     },
     "execution_count": 821,
     "metadata": {},
     "output_type": "execute_result"
    },
    {
     "data": {
      "image/png": "[encoded data removed]",
      "text/plain": [
       "<matplotlib.figure.Figure at 0x1a324039b0>"
      ]
     },
     "metadata": {},
     "output_type": "display_data"
    }
   ],
   "source": [
    "# Plot adjusted close over time\n",
    "rcParams['figure.figsize'] = 10, 8 # width 10, height 8\n",
    "\n",
    "ax = train.plot(x='date', y='adj_close', style='b-', grid=True)\n",
    "ax = cv.plot(x='date', y='adj_close', style='y-', grid=True, ax=ax)\n",
    "ax = test.plot(x='date', y='adj_close', style='g-', grid=True, ax=ax)\n",
    "ax.legend(['train', 'dev', 'test'])\n",
    "ax.set_xlabel(\"date\")\n",
    "ax.set_ylabel(\"USD\")\n",
    "ax.set_title(\"Without scaling\")"
   ]
  },
  {
   "cell_type": "code",
   "execution_count": 822,
   "metadata": {},
   "outputs": [
    {
     "data": {
      "text/plain": [
       "<matplotlib.text.Text at 0x1a32668ba8>"
      ]
     },
     "execution_count": 822,
     "metadata": {},
     "output_type": "execute_result"
    },
    {
     "data": {
      "image/png": "[encoded data removed]",
      "text/plain": [
       "<matplotlib.figure.Figure at 0x1a324f76a0>"
      ]
     },
     "metadata": {},
     "output_type": "display_data"
    }
   ],
   "source": [
    "# Plot adjusted close over time\n",
    "rcParams['figure.figsize'] = 10, 8 # width 10, height 8\n",
    "\n",
    "ax = train_scaled.plot(x='date', y='adj_close', style='b-', grid=True)\n",
    "ax.legend(['train_scaled'])\n",
    "ax.set_xlabel(\"date\")\n",
    "ax.set_ylabel(\"USD (scaled)\")\n",
    "ax.set_title(\"With scaling\")"
   ]
  },
  {
   "cell_type": "markdown",
   "metadata": {
    "collapsed": true
   },
   "source": [
    "# Train the model using XGBoost"
   ]
  },
  {
   "cell_type": "code",
   "execution_count": 823,
   "metadata": {},
   "outputs": [
    {
     "data": {
      "text/plain": [
       "XGBRegressor(base_score=0.5, booster='gbtree', colsample_bylevel=1,\n",
       "       colsample_bytree=1, gamma=0, learning_rate=0.1, max_delta_step=0,\n",
       "       max_depth=3, min_child_weight=1, missing=None, n_estimators=100,\n",
       "       n_jobs=1, nthread=None, objective='reg:linear', random_state=0,\n",
       "       reg_alpha=0, reg_lambda=1, scale_pos_weight=1, seed=100,\n",
       "       silent=True, subsample=1)"
      ]
     },
     "execution_count": 823,
     "metadata": {},
     "output_type": "execute_result"
    }
   ],
   "source": [
    "# Create the model\n",
    "model = XGBRegressor(seed=model_seed,\n",
    "                     n_estimators=n_estimators,\n",
    "                     max_depth=max_depth,\n",
    "                     learning_rate=learning_rate,\n",
    "                     min_child_weight=min_child_weight,\n",
    "                     subsample=subsample,\n",
    "                     colsample_bytree=colsample_bytree,\n",
    "                     colsample_bylevel=colsample_bylevel,\n",
    "                     gamma=gamma)\n",
    "\n",
    "# Train the regressor\n",
    "model.fit(X_train_scaled, y_train_scaled)"
   ]
  },
  {
   "cell_type": "markdown",
   "metadata": {},
   "source": [
    "# Predict on train set"
   ]
  },
  {
   "cell_type": "code",
   "execution_count": 824,
   "metadata": {},
   "outputs": [
    {
     "name": "stdout",
     "output_type": "stream",
     "text": [
      "RMSE on train set = 0.420\n",
      "MAPE on train set = 0.287%\n"
     ]
    }
   ],
   "source": [
    "# Do prediction on train set\n",
    "est_scaled = model.predict(X_train_scaled)\n",
    "est = est_scaled * math.sqrt(scaler.var_[0]) + scaler.mean_[0]\n",
    "\n",
    "# Calculate RMSE\n",
    "print(\"RMSE on train set = %0.3f\" % math.sqrt(mean_squared_error(y_train, est)))\n",
    "\n",
    "# Calculate MAPE\n",
    "print(\"MAPE on train set = %0.3f%%\" % get_mape(y_train, est))"
   ]
  },
  {
   "cell_type": "code",
   "execution_count": 825,
   "metadata": {},
   "outputs": [
    {
     "data": {
      "text/plain": [
       "<matplotlib.text.Text at 0x1a328357b8>"
      ]
     },
     "execution_count": 825,
     "metadata": {},
     "output_type": "execute_result"
    },
    {
     "data": {
      "image/png": "[encoded data removed]",
      "text/plain": [
       "<matplotlib.figure.Figure at 0x1a32660048>"
      ]
     },
     "metadata": {},
     "output_type": "display_data"
    }
   ],
   "source": [
    "# Plot adjusted close over time\n",
    "rcParams['figure.figsize'] = 10, 8 # width 10, height 8\n",
    "\n",
    "est_df = pd.DataFrame({'est': est, \n",
    "                       'date': train['date']})\n",
    "\n",
    "ax = train.plot(x='date', y='adj_close', style='b-', grid=True)\n",
    "ax = cv.plot(x='date', y='adj_close', style='y-', grid=True, ax=ax)\n",
    "ax = test.plot(x='date', y='adj_close', style='g-', grid=True, ax=ax)\n",
    "ax = est_df.plot(x='date', y='est', style='r-', grid=True, ax=ax)\n",
    "ax.legend(['train', 'dev', 'test', 'predictions'])\n",
    "ax.set_xlabel(\"date\")\n",
    "ax.set_ylabel(\"USD\")\n",
    "ax.set_title('Without scaling')"
   ]
  },
  {
   "cell_type": "markdown",
   "metadata": {},
   "source": [
    "# Predict on dev set"
   ]
  },
  {
   "cell_type": "code",
   "execution_count": 826,
   "metadata": {},
   "outputs": [
    {
     "name": "stdout",
     "output_type": "stream",
     "text": [
      "RMSE on dev set = 1.214\n",
      "MAPE on dev set = 0.581%\n"
     ]
    },
    {
     "name": "stderr",
     "output_type": "stream",
     "text": [
      "/Users/yibin/anaconda3/lib/python3.6/site-packages/ipykernel_launcher.py:3: SettingWithCopyWarning: \n",
      "A value is trying to be set on a copy of a slice from a DataFrame.\n",
      "Try using .loc[row_indexer,col_indexer] = value instead\n",
      "\n",
      "See the caveats in the documentation: http://pandas.pydata.org/pandas-docs/stable/indexing.html#indexing-view-versus-copy\n",
      "  This is separate from the ipykernel package so we can avoid doing imports until\n",
      "/Users/yibin/anaconda3/lib/python3.6/site-packages/ipykernel_launcher.py:4: SettingWithCopyWarning: \n",
      "A value is trying to be set on a copy of a slice from a DataFrame.\n",
      "Try using .loc[row_indexer,col_indexer] = value instead\n",
      "\n",
      "See the caveats in the documentation: http://pandas.pydata.org/pandas-docs/stable/indexing.html#indexing-view-versus-copy\n",
      "  after removing the cwd from sys.path.\n"
     ]
    }
   ],
   "source": [
    "# Do prediction on test set\n",
    "est_scaled = model.predict(X_cv_scaled)\n",
    "cv['est_scaled'] = est_scaled\n",
    "cv['est'] = cv['est_scaled'] * cv['adj_close_std'] + cv['adj_close_mean']\n",
    "\n",
    "# Calculate RMSE\n",
    "rmse_bef_tuning = math.sqrt(mean_squared_error(y_cv, cv['est']))\n",
    "print(\"RMSE on dev set = %0.3f\" % rmse_bef_tuning)\n",
    "\n",
    "# Calculate MAPE\n",
    "mape_bef_tuning = get_mape(y_cv, cv['est'])\n",
    "print(\"MAPE on dev set = %0.3f%%\" % mape_bef_tuning)"
   ]
  },
  {
   "cell_type": "code",
   "execution_count": 827,
   "metadata": {},
   "outputs": [
    {
     "data": {
      "text/plain": [
       "<matplotlib.text.Text at 0x1a324d2160>"
      ]
     },
     "execution_count": 827,
     "metadata": {},
     "output_type": "execute_result"
    },
    {
     "data": {
      "image/png": "[encoded data removed]",
      "text/plain": [
       "<matplotlib.figure.Figure at 0x1a3205ab70>"
      ]
     },
     "metadata": {},
     "output_type": "display_data"
    }
   ],
   "source": [
    "# Plot adjusted close over time\n",
    "rcParams['figure.figsize'] = 10, 8 # width 10, height 8\n",
    "\n",
    "est_df = pd.DataFrame({'est': cv['est'], \n",
    "                       'y_cv': y_cv,\n",
    "                       'date': cv['date']})\n",
    "\n",
    "ax = train.plot(x='date', y='adj_close', style='b-', grid=True)\n",
    "ax = cv.plot(x='date', y='adj_close', style='y-', grid=True, ax=ax)\n",
    "ax = test.plot(x='date', y='adj_close', style='g-', grid=True, ax=ax)\n",
    "ax = est_df.plot(x='date', y='est', style='r-', grid=True, ax=ax)\n",
    "ax.legend(['train', 'dev', 'test', 'predictions'])\n",
    "ax.set_xlabel(\"date\")\n",
    "ax.set_ylabel(\"USD\")"
   ]
  },
  {
   "cell_type": "code",
   "execution_count": 828,
   "metadata": {},
   "outputs": [
    {
     "data": {
      "text/plain": [
       "<matplotlib.text.Text at 0x1a31473048>"
      ]
     },
     "execution_count": 828,
     "metadata": {},
     "output_type": "execute_result"
    },
    {
     "data": {
      "image/png": "[encoded data removed]",
      "text/plain": [
       "<matplotlib.figure.Figure at 0x1a317fef98>"
      ]
     },
     "metadata": {},
     "output_type": "display_data"
    }
   ],
   "source": [
    "# Plot adjusted close over time, for dev set only\n",
    "rcParams['figure.figsize'] = 10, 8 # width 10, height 8\n",
    "ax = train.plot(x='date', y='adj_close', style='b-', grid=True)\n",
    "ax = cv.plot(x='date', y='adj_close', style='y-', grid=True, ax=ax)\n",
    "ax = test.plot(x='date', y='adj_close', style='g-', grid=True, ax=ax)\n",
    "ax = est_df.plot(x='date', y='est', style='r-', grid=True, ax=ax)\n",
    "ax.legend(['train', 'dev', 'test', 'predictions'])\n",
    "ax.set_xlabel(\"date\")\n",
    "ax.set_ylabel(\"USD\")\n",
    "ax.set_xlim([date(2017, 8, 1), date(2018, 5, 31)])\n",
    "ax.set_title(\"Zoom in to dev set\")"
   ]
  },
  {
   "cell_type": "markdown",
   "metadata": {},
   "source": [
    "The predictions capture the turn in directions with a slight lag"
   ]
  },
  {
   "cell_type": "code",
   "execution_count": 829,
   "metadata": {
    "scrolled": false
   },
   "outputs": [
    {
     "data": {
      "text/plain": [
       "[('range_oc_lag_1', 0.04274809),\n",
       " ('range_oc_lag_2', 0.04427481),\n",
       " ('range_hl_lag_3', 0.047328245),\n",
       " ('range_oc_lag_3', 0.05038168),\n",
       " ('volume_lag_1', 0.06870229),\n",
       " ('adj_close_lag_2', 0.06870229),\n",
       " ('volume_lag_2', 0.07022901),\n",
       " ('volume_lag_3', 0.08396947),\n",
       " ('adj_close_lag_3', 0.09312977),\n",
       " ('adj_close_lag_1', 0.36183205)]"
      ]
     },
     "execution_count": 829,
     "metadata": {},
     "output_type": "execute_result"
    }
   ],
   "source": [
    "# View a list of the features and their importance scores\n",
    "imp = list(zip(train[features], model.feature_importances_))\n",
    "imp.sort(key=lambda tup: tup[1]) \n",
    "imp[-10:]"
   ]
  },
  {
   "cell_type": "markdown",
   "metadata": {},
   "source": [
    "Importance features dominated by adj_close and volume"
   ]
  },
  {
   "cell_type": "markdown",
   "metadata": {},
   "source": [
    "# Tuning N (no. of days to use as features)"
   ]
  },
  {
   "cell_type": "code",
   "execution_count": null,
   "metadata": {
    "scrolled": true
   },
   "outputs": [
    {
     "data": {
      "text/html": [
       "<div>\n",
       "<style scoped>\n",
       "    .dataframe tbody tr th:only-of-type {\n",
       "        vertical-align: middle;\n",
       "    }\n",
       "\n",
       "    .dataframe tbody tr th {\n",
       "        vertical-align: top;\n",
       "    }\n",
       "\n",
       "    .dataframe thead th {\n",
       "        text-align: right;\n",
       "    }\n",
       "</style>\n",
       "<table border=\"1\" class=\"dataframe\">\n",
       "  <thead>\n",
       "    <tr style=\"text-align: right;\">\n",
       "      <th></th>\n",
       "      <th>N</th>\n",
       "      <th>rmse_dev_set</th>\n",
       "      <th>mape_pct_dev_set</th>\n",
       "    </tr>\n",
       "  </thead>\n",
       "  <tbody>\n",
       "    <tr>\n",
       "      <th>0</th>\n",
       "      <td>2</td>\n",
       "      <td>1.225</td>\n",
       "      <td>0.585</td>\n",
       "    </tr>\n",
       "    <tr>\n",
       "      <th>1</th>\n",
       "      <td>3</td>\n",
       "      <td>1.214</td>\n",
       "      <td>0.581</td>\n",
       "    </tr>\n",
       "    <tr>\n",
       "      <th>2</th>\n",
       "      <td>4</td>\n",
       "      <td>1.231</td>\n",
       "      <td>0.590</td>\n",
       "    </tr>\n",
       "    <tr>\n",
       "      <th>3</th>\n",
       "      <td>5</td>\n",
       "      <td>1.249</td>\n",
       "      <td>0.601</td>\n",
       "    </tr>\n",
       "    <tr>\n",
       "      <th>4</th>\n",
       "      <td>6</td>\n",
       "      <td>1.254</td>\n",
       "      <td>0.609</td>\n",
       "    </tr>\n",
       "    <tr>\n",
       "      <th>5</th>\n",
       "      <td>7</td>\n",
       "      <td>1.251</td>\n",
       "      <td>0.612</td>\n",
       "    </tr>\n",
       "    <tr>\n",
       "      <th>6</th>\n",
       "      <td>14</td>\n",
       "      <td>1.498</td>\n",
       "      <td>0.763</td>\n",
       "    </tr>\n",
       "  </tbody>\n",
       "</table>\n",
       "</div>"
      ],
      "text/plain": [
       "    N  rmse_dev_set  mape_pct_dev_set\n",
       "0   2         1.225             0.585\n",
       "1   3         1.214             0.581\n",
       "2   4         1.231             0.590\n",
       "3   5         1.249             0.601\n",
       "4   6         1.254             0.609\n",
       "5   7         1.251             0.612\n",
       "6  14         1.498             0.763"
      ]
     },
     "execution_count": 830,
     "metadata": {},
     "output_type": "execute_result"
    }
   ],
   "source": [
    "d = {'N': [2, 3, 4, 5, 6, 7, 14],\n",
    "     'rmse_dev_set': [1.225, 1.214, 1.231, 1.249, 1.254, 1.251, 1.498],\n",
    "     'mape_pct_dev_set': [0.585, 0.581, 0.590, 0.601, 0.609, 0.612, 0.763]}\n",
    "pd.DataFrame(d)"
   ]
  },
  {
   "cell_type": "markdown",
   "metadata": {},
   "source": [
    "Use N = 3 for lowest RMSE and MAPE"
   ]
  },
  {
   "cell_type": "markdown",
   "metadata": {},
   "source": [
    "# Tuning XGBoost - n_estimators (default=100) and max_depth (default=3)"
   ]
  },
  {
   "cell_type": "code",
   "execution_count": null,
   "metadata": {},
   "outputs": [
    {
     "data": {
      "application/vnd.jupyter.widget-view+json": {
       "model_id": "36c249acaab34bb7ab7e13b4296fe27c",
       "version_major": 2,
       "version_minor": 0
      },
      "text/plain": [
       "A Jupyter Widget"
      ]
     },
     "metadata": {},
     "output_type": "display_data"
    }
   ],
   "source": [
    "param_label = 'n_estimators'\n",
    "param_list = range(10, 310, 10)\n",
    "\n",
    "param2_label = 'max_depth'\n",
    "param2_list = [2, 3, 4, 5, 6, 7, 8, 9]\n",
    "\n",
    "error_rate = {param_label: [] , param2_label: [], 'rmse': [], 'mape_pct': []}\n",
    "tic = time.time()\n",
    "for param in tqdm_notebook(param_list):\n",
    "#     print(\"param = \" + str(param))\n",
    "    \n",
    "    for param2 in param2_list:\n",
    "        # Train, predict and eval model\n",
    "        rmse, mape, _ = train_pred_eval_model(X_train_scaled, \n",
    "                                     y_train_scaled, \n",
    "                                     X_cv_scaled, \n",
    "                                     y_cv, \n",
    "                                     cv['adj_close_mean'],\n",
    "                                     cv['adj_close_std'],\n",
    "                                     seed=model_seed,\n",
    "                                     n_estimators=param, \n",
    "                                     max_depth=param2, \n",
    "                                     learning_rate=learning_rate, \n",
    "                                     min_child_weight=min_child_weight, \n",
    "                                     subsample=subsample, \n",
    "                                     colsample_bytree=colsample_bytree, \n",
    "                                     colsample_bylevel=colsample_bylevel, \n",
    "                                     gamma=gamma)\n",
    "    \n",
    "        # Collect results\n",
    "        error_rate[param_label].append(param)\n",
    "        error_rate[param2_label].append(param2)\n",
    "        error_rate['rmse'].append(rmse)\n",
    "        error_rate['mape_pct'].append(mape)\n",
    "    \n",
    "error_rate = pd.DataFrame(error_rate)\n",
    "toc = time.time()\n",
    "print(\"Minutes taken = \" + str((toc-tic)/60.0))\n",
    "error_rate   "
   ]
  },
  {
   "cell_type": "code",
   "execution_count": null,
   "metadata": {
    "scrolled": true
   },
   "outputs": [],
   "source": [
    "# Plot performance versus params\n",
    "rcParams['figure.figsize'] = 10, 8 # width 10, height 8\n",
    "temp = error_rate[error_rate[param2_label]==param2_list[0]]\n",
    "ax = temp.plot(x=param_label, y='rmse', style='bs-', grid=True)\n",
    "legend_list = [param2_label + '_' + str(param2_list[0])]\n",
    "\n",
    "color_list = ['r', 'g', 'k', 'y', 'm', 'c', '0.75']\n",
    "for i in range(1,len(param2_list)):\n",
    "    temp = error_rate[error_rate[param2_label]==param2_list[i]]\n",
    "    ax = temp.plot(x=param_label, y='rmse', color=color_list[i%len(color_list)], marker='s', grid=True, ax=ax)\n",
    "    legend_list.append(param2_label + '_' + str(param2_list[i]))\n",
    "\n",
    "ax.set_xlabel(param_label)\n",
    "ax.set_ylabel(\"RMSE\")\n",
    "matplotlib.rcParams.update({'font.size': 14})\n",
    "plt.legend(legend_list, loc='center left', bbox_to_anchor=(1.0, 0.5)) # positions legend outside figure"
   ]
  },
  {
   "cell_type": "code",
   "execution_count": null,
   "metadata": {},
   "outputs": [],
   "source": [
    "# Get optimum value for param and param2\n",
    "temp = error_rate[error_rate['rmse'] == error_rate['rmse'].min()]\n",
    "n_estimators_opt = temp['n_estimators'].values[0]\n",
    "max_depth_opt = temp['max_depth'].values[0]\n",
    "print(\"min RMSE = %0.3f\" % error_rate['rmse'].min())\n",
    "print(\"optimum params = \")\n",
    "n_estimators_opt, max_depth_opt"
   ]
  },
  {
   "cell_type": "code",
   "execution_count": null,
   "metadata": {},
   "outputs": [],
   "source": [
    "# Get optimum value for param and param2, using MAPE\n",
    "temp = error_rate[error_rate['mape_pct'] == error_rate['mape_pct'].min()]\n",
    "print(\"min MAPE = %0.3f%%\" % error_rate['mape_pct'].min())\n",
    "print(\"optimum params = \")\n",
    "temp['n_estimators'].values[0], temp['max_depth'].values[0]"
   ]
  },
  {
   "cell_type": "markdown",
   "metadata": {},
   "source": [
    "# Tuning XGBoost - learning_rate(default=0.1) and min_child_weight(default=1)"
   ]
  },
  {
   "cell_type": "code",
   "execution_count": null,
   "metadata": {},
   "outputs": [],
   "source": [
    "param_label = 'learning_rate'\n",
    "param_list = [0.001, 0.005, 0.01, 0.05, 0.1, 0.2, 0.3]\n",
    "\n",
    "param2_label = 'min_child_weight'\n",
    "param2_list = range(5, 21, 1)\n",
    "\n",
    "error_rate = {param_label: [] , param2_label: [], 'rmse': [], 'mape_pct': []}\n",
    "tic = time.time()\n",
    "for param in tqdm_notebook(param_list):\n",
    "#     print(\"param = \" + str(param))\n",
    "    \n",
    "    for param2 in param2_list:\n",
    "        # Train, predict and eval model\n",
    "        rmse, mape, _ = train_pred_eval_model(X_train_scaled, \n",
    "                                     y_train_scaled, \n",
    "                                     X_cv_scaled, \n",
    "                                     y_cv, \n",
    "                                     cv['adj_close_mean'],\n",
    "                                     cv['adj_close_std'],\n",
    "                                     seed=model_seed,\n",
    "                                     n_estimators=n_estimators_opt, \n",
    "                                     max_depth=max_depth_opt, \n",
    "                                     learning_rate=param, \n",
    "                                     min_child_weight=param2, \n",
    "                                     subsample=subsample, \n",
    "                                     colsample_bytree=colsample_bytree, \n",
    "                                     colsample_bylevel=colsample_bylevel, \n",
    "                                     gamma=gamma)\n",
    "    \n",
    "        # Collect results\n",
    "        error_rate[param_label].append(param)\n",
    "        error_rate[param2_label].append(param2)\n",
    "        error_rate['rmse'].append(rmse)\n",
    "        error_rate['mape_pct'].append(mape)\n",
    "    \n",
    "error_rate = pd.DataFrame(error_rate)\n",
    "toc = time.time()\n",
    "print(\"Minutes taken = \" + str((toc-tic)/60.0))\n",
    "error_rate   "
   ]
  },
  {
   "cell_type": "code",
   "execution_count": null,
   "metadata": {},
   "outputs": [],
   "source": [
    "# Plot performance versus params\n",
    "rcParams['figure.figsize'] = 10, 8 # width 10, height 8\n",
    "temp = error_rate[error_rate[param2_label]==param2_list[0]]\n",
    "ax = temp.plot(x=param_label, y='rmse', style='bs-', grid=True)\n",
    "legend_list = [param2_label + '_' + str(param2_list[0])]\n",
    "\n",
    "color_list = ['r', 'g', 'k', 'y', 'm', 'c', '0.75']\n",
    "for i in range(1,len(param2_list)):\n",
    "    temp = error_rate[error_rate[param2_label]==param2_list[i]]\n",
    "    ax = temp.plot(x=param_label, y='rmse', color=color_list[i%len(color_list)], marker='s', grid=True, ax=ax)\n",
    "    legend_list.append(param2_label + '_' + str(param2_list[i]))\n",
    "\n",
    "ax.set_xlabel(param_label)\n",
    "ax.set_ylabel(\"RMSE\")\n",
    "matplotlib.rcParams.update({'font.size': 14})\n",
    "plt.legend(legend_list, loc='center left', bbox_to_anchor=(1.0, 0.5)) # positions legend outside figure"
   ]
  },
  {
   "cell_type": "code",
   "execution_count": null,
   "metadata": {},
   "outputs": [],
   "source": [
    "# Get optimum value for param and param2\n",
    "temp = error_rate[error_rate['rmse'] == error_rate['rmse'].min()]\n",
    "learning_rate_opt = temp['learning_rate'].values[0]\n",
    "min_child_weight_opt = temp['min_child_weight'].values[0]\n",
    "print(\"min RMSE = %0.3f\" % error_rate['rmse'].min())\n",
    "print(\"optimum params = \")\n",
    "learning_rate_opt, min_child_weight_opt"
   ]
  },
  {
   "cell_type": "code",
   "execution_count": null,
   "metadata": {},
   "outputs": [],
   "source": [
    "# Get optimum value for param and param2, using MAPE\n",
    "# We will use RMSE to decide the final optimum params to use\n",
    "temp = error_rate[error_rate['mape_pct'] == error_rate['mape_pct'].min()]\n",
    "print(\"min MAPE = %0.3f%%\" % error_rate['mape_pct'].min())\n",
    "print(\"optimum params = \")\n",
    "temp['learning_rate'].values[0], temp['min_child_weight'].values[0]"
   ]
  },
  {
   "cell_type": "markdown",
   "metadata": {},
   "source": [
    "# Tuning XGBoost - subsample(default=1) and gamma(default=0)"
   ]
  },
  {
   "cell_type": "code",
   "execution_count": null,
   "metadata": {},
   "outputs": [],
   "source": [
    "param_label = 'subsample'\n",
    "param_list = [0.1, 0.2, 0.3, 0.4, 0.5, 0.6, 0.7, 0.8, 0.9, 1]\n",
    "\n",
    "param2_label = 'gamma'\n",
    "param2_list = [0.1, 0.2, 0.3, 0.4, 0.5, 0.6, 0.7, 0.8, 0.9, 1]\n",
    "\n",
    "error_rate = {param_label: [] , param2_label: [], 'rmse': [], 'mape_pct': []}\n",
    "tic = time.time()\n",
    "for param in tqdm_notebook(param_list):\n",
    "#     print(\"param = \" + str(param))\n",
    "    \n",
    "    for param2 in param2_list:\n",
    "        # Train, predict and eval model\n",
    "        rmse, mape, _ = train_pred_eval_model(X_train_scaled, \n",
    "                                     y_train_scaled, \n",
    "                                     X_cv_scaled, \n",
    "                                     y_cv, \n",
    "                                     cv['adj_close_mean'],\n",
    "                                     cv['adj_close_std'],\n",
    "                                     seed=model_seed,\n",
    "                                     n_estimators=n_estimators_opt, \n",
    "                                     max_depth=max_depth_opt, \n",
    "                                     learning_rate=learning_rate_opt, \n",
    "                                     min_child_weight=min_child_weight_opt, \n",
    "                                     subsample=param, \n",
    "                                     colsample_bytree=colsample_bytree, \n",
    "                                     colsample_bylevel=colsample_bylevel, \n",
    "                                     gamma=param2)\n",
    "    \n",
    "        # Collect results\n",
    "        error_rate[param_label].append(param)\n",
    "        error_rate[param2_label].append(param2)\n",
    "        error_rate['rmse'].append(rmse)\n",
    "        error_rate['mape_pct'].append(mape)\n",
    "    \n",
    "error_rate = pd.DataFrame(error_rate)\n",
    "toc = time.time()\n",
    "print(\"Minutes taken = \" + str((toc-tic)/60.0))\n",
    "error_rate   "
   ]
  },
  {
   "cell_type": "code",
   "execution_count": null,
   "metadata": {
    "scrolled": true
   },
   "outputs": [],
   "source": [
    "# Plot performance versus params\n",
    "rcParams['figure.figsize'] = 10, 8 # width 10, height 8\n",
    "temp = error_rate[error_rate[param2_label]==param2_list[0]]\n",
    "ax = temp.plot(x=param_label, y='rmse', style='bs-', grid=True)\n",
    "legend_list = [param2_label + '_' + str(param2_list[0])]\n",
    "\n",
    "color_list = ['r', 'g', 'k', 'y', 'm', 'c', '0.75']\n",
    "for i in range(1,len(param2_list)):\n",
    "    temp = error_rate[error_rate[param2_label]==param2_list[i]]\n",
    "    ax = temp.plot(x=param_label, y='rmse', color=color_list[i%len(color_list)], marker='s', grid=True, ax=ax)\n",
    "    legend_list.append(param2_label + '_' + str(param2_list[i]))\n",
    "\n",
    "ax.set_xlabel(param_label)\n",
    "ax.set_ylabel(\"RMSE\")\n",
    "matplotlib.rcParams.update({'font.size': 14})\n",
    "plt.legend(legend_list, loc='center left', bbox_to_anchor=(1.0, 0.5)) # positions legend outside figure"
   ]
  },
  {
   "cell_type": "code",
   "execution_count": null,
   "metadata": {},
   "outputs": [],
   "source": [
    "# Get optimum value for param and param2\n",
    "temp = error_rate[error_rate['rmse'] == error_rate['rmse'].min()]\n",
    "subsample_opt = temp['subsample'].values[0]\n",
    "gamma_opt = temp['gamma'].values[0]\n",
    "print(\"min RMSE = %0.3f\" % error_rate['rmse'].min())\n",
    "print(\"optimum params = \")\n",
    "subsample_opt, gamma_opt"
   ]
  },
  {
   "cell_type": "code",
   "execution_count": null,
   "metadata": {},
   "outputs": [],
   "source": [
    "# Get optimum value for param and param2, using MAPE\n",
    "# We will use RMSE to decide the final optimum params to use\n",
    "temp = error_rate[error_rate['mape_pct'] == error_rate['mape_pct'].min()]\n",
    "print(\"min MAPE = %0.3f%%\" % error_rate['mape_pct'].min())\n",
    "print(\"optimum params = \")\n",
    "temp['subsample'].values[0], temp['gamma'].values[0]"
   ]
  },
  {
   "cell_type": "markdown",
   "metadata": {},
   "source": [
    "# Tuning XGBoost - colsample_bytree(default=1) and colsample_bylevel(default=1)"
   ]
  },
  {
   "cell_type": "code",
   "execution_count": null,
   "metadata": {},
   "outputs": [],
   "source": [
    "param_label = 'colsample_bytree'\n",
    "param_list = [0.5, 0.6, 0.7, 0.8, 0.9, 1]\n",
    "\n",
    "param2_label = 'colsample_bylevel'\n",
    "param2_list = [0.5, 0.6, 0.7, 0.8, 0.9, 1]\n",
    "\n",
    "error_rate = {param_label: [] , param2_label: [], 'rmse': [], 'mape_pct': []}\n",
    "tic = time.time()\n",
    "for param in tqdm_notebook(param_list):\n",
    "#     print(\"param = \" + str(param))\n",
    "    \n",
    "    for param2 in param2_list:\n",
    "        # Train, predict and eval model\n",
    "        rmse, mape, _ = train_pred_eval_model(X_train_scaled, \n",
    "                                     y_train_scaled, \n",
    "                                     X_cv_scaled, \n",
    "                                     y_cv, \n",
    "                                     cv['adj_close_mean'],\n",
    "                                     cv['adj_close_std'],\n",
    "                                     seed=model_seed,\n",
    "                                     n_estimators=n_estimators_opt, \n",
    "                                     max_depth=max_depth_opt, \n",
    "                                     learning_rate=learning_rate_opt, \n",
    "                                     min_child_weight=min_child_weight_opt, \n",
    "                                     subsample=subsample_opt, \n",
    "                                     colsample_bytree=param, \n",
    "                                     colsample_bylevel=param2, \n",
    "                                     gamma=gamma_opt)\n",
    "    \n",
    "        # Collect results\n",
    "        error_rate[param_label].append(param)\n",
    "        error_rate[param2_label].append(param2)\n",
    "        error_rate['rmse'].append(rmse)\n",
    "        error_rate['mape_pct'].append(mape)\n",
    "    \n",
    "error_rate = pd.DataFrame(error_rate)\n",
    "toc = time.time()\n",
    "print(\"Minutes taken = \" + str((toc-tic)/60.0))\n",
    "error_rate   "
   ]
  },
  {
   "cell_type": "code",
   "execution_count": null,
   "metadata": {},
   "outputs": [],
   "source": [
    "# Plot performance versus params\n",
    "rcParams['figure.figsize'] = 10, 8 # width 10, height 8\n",
    "temp = error_rate[error_rate[param2_label]==param2_list[0]]\n",
    "ax = temp.plot(x=param_label, y='rmse', style='bs-', grid=True)\n",
    "legend_list = [param2_label + '_' + str(param2_list[0])]\n",
    "\n",
    "color_list = ['r', 'g', 'k', 'y', 'm', 'c', '0.75']\n",
    "for i in range(1,len(param2_list)):\n",
    "    temp = error_rate[error_rate[param2_label]==param2_list[i]]\n",
    "    ax = temp.plot(x=param_label, y='rmse', color=color_list[i%len(color_list)], marker='s', grid=True, ax=ax)\n",
    "    legend_list.append(param2_label + '_' + str(param2_list[i]))\n",
    "\n",
    "ax.set_xlabel(param_label)\n",
    "ax.set_ylabel(\"RMSE\")\n",
    "matplotlib.rcParams.update({'font.size': 14})\n",
    "plt.legend(legend_list, loc='center left', bbox_to_anchor=(1.0, 0.5)) # positions legend outside figure"
   ]
  },
  {
   "cell_type": "code",
   "execution_count": null,
   "metadata": {},
   "outputs": [],
   "source": [
    "# Get optimum value for param and param2\n",
    "temp = error_rate[error_rate['rmse'] == error_rate['rmse'].min()]\n",
    "colsample_bytree_opt = temp['colsample_bytree'].values[0]\n",
    "colsample_bylevel_opt = temp['colsample_bylevel'].values[0]\n",
    "print(\"min RMSE = %0.3f\" % error_rate['rmse'].min())\n",
    "print(\"optimum params = \")\n",
    "colsample_bytree_opt, colsample_bylevel_opt"
   ]
  },
  {
   "cell_type": "code",
   "execution_count": null,
   "metadata": {},
   "outputs": [],
   "source": [
    "# Get optimum value for param and param2, using MAPE\n",
    "# We will use RMSE to decide the final optimum params to use\n",
    "temp = error_rate[error_rate['mape_pct'] == error_rate['mape_pct'].min()]\n",
    "print(\"min MAPE = %0.3f%%\" % error_rate['mape_pct'].min())\n",
    "print(\"optimum params = \")\n",
    "temp['colsample_bytree'].values[0], temp['colsample_bylevel'].values[0]"
   ]
  },
  {
   "cell_type": "markdown",
   "metadata": {},
   "source": [
    "# Tuned params"
   ]
  },
  {
   "cell_type": "code",
   "execution_count": null,
   "metadata": {},
   "outputs": [],
   "source": [
    "d = {'param': ['n_estimators', 'max_depth', 'learning_rate', 'min_child_weight', 'subsample', 'colsample_bytree', 'colsample_bylevel', 'gamma', 'rmse', 'mape_pct'],\n",
    "     'original': [n_estimators, max_depth, learning_rate, min_child_weight, subsample, colsample_bytree, colsample_bylevel, gamma, rmse_bef_tuning, mape_bef_tuning],\n",
    "     'after_tuning': [n_estimators_opt, max_depth_opt, learning_rate_opt, min_child_weight_opt, subsample_opt, colsample_bytree_opt, colsample_bylevel_opt, gamma_opt, error_rate['rmse'].min(), error_rate['mape_pct'].min()]}\n",
    "tuned_params = pd.DataFrame(d)\n",
    "tuned_params"
   ]
  },
  {
   "cell_type": "markdown",
   "metadata": {},
   "source": [
    "# Final model"
   ]
  },
  {
   "cell_type": "code",
   "execution_count": null,
   "metadata": {},
   "outputs": [],
   "source": [
    "rmse, mape, est = train_pred_eval_model(X_train_cv_scaled, \n",
    "                             y_train_cv_scaled, \n",
    "                             X_sample_scaled, \n",
    "                             y_sample, \n",
    "                             test['adj_close_mean'],\n",
    "                             test['adj_close_std'],\n",
    "                             seed=model_seed,\n",
    "                             n_estimators=n_estimators_opt, \n",
    "                             max_depth=max_depth_opt, \n",
    "                             learning_rate=learning_rate_opt, \n",
    "                             min_child_weight=min_child_weight_opt, \n",
    "                             subsample=subsample_opt, \n",
    "                             colsample_bytree=colsample_bytree_opt, \n",
    "                             colsample_bylevel=colsample_bylevel_opt, \n",
    "                             gamma=gamma_opt)\n",
    "\n",
    "# Calculate RMSE\n",
    "print(\"RMSE on test set = %0.3f\" % rmse)\n",
    "\n",
    "# Calculate MAPE\n",
    "print(\"MAPE on test set = %0.3f%%\" % mape)"
   ]
  },
  {
   "cell_type": "code",
   "execution_count": null,
   "metadata": {
    "scrolled": true
   },
   "outputs": [],
   "source": [
    "# Plot adjusted close over time\n",
    "rcParams['figure.figsize'] = 10, 8 # width 10, height 8\n",
    "\n",
    "est_df = pd.DataFrame({'est': est, \n",
    "                       'y_sample': y_sample,\n",
    "                       'date': test['date']})\n",
    "\n",
    "ax = train.plot(x='date', y='adj_close', style='b-', grid=True)\n",
    "ax = cv.plot(x='date', y='adj_close', style='y-', grid=True, ax=ax)\n",
    "ax = test.plot(x='date', y='adj_close', style='g-', grid=True, ax=ax)\n",
    "ax = est_df.plot(x='date', y='est', style='r-', grid=True, ax=ax)\n",
    "ax.legend(['train', 'dev', 'test', 'predictions'])\n",
    "ax.set_xlabel(\"date\")\n",
    "ax.set_ylabel(\"USD\")"
   ]
  },
  {
   "cell_type": "code",
   "execution_count": null,
   "metadata": {},
   "outputs": [],
   "source": [
    "# Plot adjusted close over time, for test set only\n",
    "rcParams['figure.figsize'] = 10, 8 # width 10, height 8\n",
    "ax = train.plot(x='date', y='adj_close', style='b-', grid=True)\n",
    "ax = cv.plot(x='date', y='adj_close', style='y-', grid=True, ax=ax)\n",
    "ax = test.plot(x='date', y='adj_close', style='g-', grid=True, ax=ax)\n",
    "ax = est_df.plot(x='date', y='est', style='r-', grid=True, ax=ax)\n",
    "ax.legend(['train', 'dev', 'test', 'predictions'])\n",
    "ax.set_xlabel(\"date\")\n",
    "ax.set_ylabel(\"USD\")\n",
    "ax.set_xlim([date(2018, 4, 1), date(2018, 11, 30)])\n",
    "ax.set_title(\"Zoom in to test set\")"
   ]
  },
  {
   "cell_type": "markdown",
   "metadata": {},
   "source": [
    "Similar to dev set, the predictions capture turns in direction with a slight lag"
   ]
  },
  {
   "cell_type": "markdown",
   "metadata": {
    "collapsed": true
   },
   "source": [
    "# Findings\n",
    "* By scaling the features properly, we can get good results for our predictions\n",
    "* RMSE and MAPE changed very little with hyperparameter tuning\n",
    "* The final RMSE and MAPE for test set are 1.162 and 0.58% respectively"
   ]
  },
  {
   "cell_type": "code",
   "execution_count": null,
   "metadata": {
    "collapsed": true
   },
   "outputs": [],
   "source": []
  }
 ],
 "metadata": {
  "kernelspec": {
   "display_name": "Python 3",
   "language": "python",
   "name": "python3"
  },
  "language_info": {
   "codemirror_mode": {
    "name": "ipython",
    "version": 3
   },
   "file_extension": ".py",
   "mimetype": "text/x-python",
   "name": "python",
   "nbconvert_exporter": "python",
   "pygments_lexer": "ipython3",
   "version": "3.6.2"
  }
 },
 "nbformat": 4,
 "nbformat_minor": 2
}
